{
 "cells": [
  {
   "cell_type": "code",
   "execution_count": 1,
   "id": "000b7888",
   "metadata": {},
   "outputs": [],
   "source": [
    "#import\n",
    "\n",
    "from bs4 import BeautifulSoup\n",
    "import requests\n",
    "import pandas as pd\n",
    "#!pip install yahoo_fin\n",
    "from yahoo_fin.stock_info import get_data\n",
    "#!pip install kaggle\n",
    "import kaggle\n",
    "import seaborn as sns\n",
    "from matplotlib import pyplot as plt\n",
    "import numpy as np\n",
    "import matplotlib.pyplot as plt\n",
    "from sklearn import linear_model\n",
    "from sklearn.model_selection import train_test_split\n",
    "import sklearn.metrics as metrics"
   ]
  },
  {
   "cell_type": "code",
   "execution_count": 2,
   "id": "25b1b0c1",
   "metadata": {},
   "outputs": [
    {
     "data": {
      "text/html": [
       "<div>\n",
       "<style scoped>\n",
       "    .dataframe tbody tr th:only-of-type {\n",
       "        vertical-align: middle;\n",
       "    }\n",
       "\n",
       "    .dataframe tbody tr th {\n",
       "        vertical-align: top;\n",
       "    }\n",
       "\n",
       "    .dataframe thead th {\n",
       "        text-align: right;\n",
       "    }\n",
       "</style>\n",
       "<table border=\"1\" class=\"dataframe\">\n",
       "  <thead>\n",
       "    <tr style=\"text-align: right;\">\n",
       "      <th></th>\n",
       "      <th>Date</th>\n",
       "      <th>Netflix Stock</th>\n",
       "    </tr>\n",
       "  </thead>\n",
       "  <tbody>\n",
       "    <tr>\n",
       "      <th>0</th>\n",
       "      <td>2002-05-23</td>\n",
       "      <td>1.196429</td>\n",
       "    </tr>\n",
       "    <tr>\n",
       "      <th>1</th>\n",
       "      <td>2002-05-24</td>\n",
       "      <td>1.210000</td>\n",
       "    </tr>\n",
       "    <tr>\n",
       "      <th>2</th>\n",
       "      <td>2002-05-28</td>\n",
       "      <td>1.157143</td>\n",
       "    </tr>\n",
       "    <tr>\n",
       "      <th>3</th>\n",
       "      <td>2002-05-29</td>\n",
       "      <td>1.103571</td>\n",
       "    </tr>\n",
       "    <tr>\n",
       "      <th>4</th>\n",
       "      <td>2002-05-30</td>\n",
       "      <td>1.071429</td>\n",
       "    </tr>\n",
       "    <tr>\n",
       "      <th>...</th>\n",
       "      <td>...</td>\n",
       "      <td>...</td>\n",
       "    </tr>\n",
       "    <tr>\n",
       "      <th>5065</th>\n",
       "      <td>2022-07-07</td>\n",
       "      <td>189.270004</td>\n",
       "    </tr>\n",
       "    <tr>\n",
       "      <th>5066</th>\n",
       "      <td>2022-07-08</td>\n",
       "      <td>186.979996</td>\n",
       "    </tr>\n",
       "    <tr>\n",
       "      <th>5067</th>\n",
       "      <td>2022-07-11</td>\n",
       "      <td>177.339996</td>\n",
       "    </tr>\n",
       "    <tr>\n",
       "      <th>5068</th>\n",
       "      <td>2022-07-12</td>\n",
       "      <td>174.449997</td>\n",
       "    </tr>\n",
       "    <tr>\n",
       "      <th>5069</th>\n",
       "      <td>2022-07-13</td>\n",
       "      <td>173.250000</td>\n",
       "    </tr>\n",
       "  </tbody>\n",
       "</table>\n",
       "<p>5070 rows × 2 columns</p>\n",
       "</div>"
      ],
      "text/plain": [
       "           Date  Netflix Stock\n",
       "0    2002-05-23       1.196429\n",
       "1    2002-05-24       1.210000\n",
       "2    2002-05-28       1.157143\n",
       "3    2002-05-29       1.103571\n",
       "4    2002-05-30       1.071429\n",
       "...         ...            ...\n",
       "5065 2022-07-07     189.270004\n",
       "5066 2022-07-08     186.979996\n",
       "5067 2022-07-11     177.339996\n",
       "5068 2022-07-12     174.449997\n",
       "5069 2022-07-13     173.250000\n",
       "\n",
       "[5070 rows x 2 columns]"
      ]
     },
     "execution_count": 2,
     "metadata": {},
     "output_type": "execute_result"
    }
   ],
   "source": [
    "#Using Yahoo Finance API to get Netflix stock status\n",
    "netflixStock = get_data(\"NFLX\", start_date = None, end_date = None, index_as_date = True, interval = \"1d\")\n",
    "\n",
    "#Creating the dataframe\n",
    "netflixStockDF = pd.DataFrame(columns = ['close'])\n",
    "netflixStockDF = netflixStockDF.append(netflixStock.iloc[:,3:4])\n",
    "netflixStockDF=netflixStockDF.rename_axis('Date').reset_index()\n",
    "netflixStockDF.rename(columns = {'close':'Netflix Stock'}, inplace = True)\n",
    "\n",
    "#Saving the dataframe\n",
    "netflixStockDF.to_csv('data/netflixStockDF.csv')\n",
    "netflixStockDF"
   ]
  },
  {
   "cell_type": "code",
   "execution_count": 3,
   "id": "a2e3f7da",
   "metadata": {},
   "outputs": [
    {
     "data": {
      "text/html": [
       "<div>\n",
       "<style scoped>\n",
       "    .dataframe tbody tr th:only-of-type {\n",
       "        vertical-align: middle;\n",
       "    }\n",
       "\n",
       "    .dataframe tbody tr th {\n",
       "        vertical-align: top;\n",
       "    }\n",
       "\n",
       "    .dataframe thead th {\n",
       "        text-align: right;\n",
       "    }\n",
       "</style>\n",
       "<table border=\"1\" class=\"dataframe\">\n",
       "  <thead>\n",
       "    <tr style=\"text-align: right;\">\n",
       "      <th></th>\n",
       "      <th>Date</th>\n",
       "      <th>Disney Stock</th>\n",
       "    </tr>\n",
       "  </thead>\n",
       "  <tbody>\n",
       "    <tr>\n",
       "      <th>0</th>\n",
       "      <td>1970-03-25</td>\n",
       "      <td>0.750151</td>\n",
       "    </tr>\n",
       "    <tr>\n",
       "      <th>1</th>\n",
       "      <td>1970-03-26</td>\n",
       "      <td>0.752720</td>\n",
       "    </tr>\n",
       "    <tr>\n",
       "      <th>2</th>\n",
       "      <td>1970-03-30</td>\n",
       "      <td>0.762996</td>\n",
       "    </tr>\n",
       "    <tr>\n",
       "      <th>3</th>\n",
       "      <td>1970-03-31</td>\n",
       "      <td>0.757858</td>\n",
       "    </tr>\n",
       "    <tr>\n",
       "      <th>4</th>\n",
       "      <td>1970-04-01</td>\n",
       "      <td>0.775841</td>\n",
       "    </tr>\n",
       "    <tr>\n",
       "      <th>...</th>\n",
       "      <td>...</td>\n",
       "      <td>...</td>\n",
       "    </tr>\n",
       "    <tr>\n",
       "      <th>13188</th>\n",
       "      <td>2022-07-07</td>\n",
       "      <td>97.430000</td>\n",
       "    </tr>\n",
       "    <tr>\n",
       "      <th>13189</th>\n",
       "      <td>2022-07-08</td>\n",
       "      <td>95.860001</td>\n",
       "    </tr>\n",
       "    <tr>\n",
       "      <th>13190</th>\n",
       "      <td>2022-07-11</td>\n",
       "      <td>93.639999</td>\n",
       "    </tr>\n",
       "    <tr>\n",
       "      <th>13191</th>\n",
       "      <td>2022-07-12</td>\n",
       "      <td>93.599998</td>\n",
       "    </tr>\n",
       "    <tr>\n",
       "      <th>13192</th>\n",
       "      <td>2022-07-13</td>\n",
       "      <td>92.860001</td>\n",
       "    </tr>\n",
       "  </tbody>\n",
       "</table>\n",
       "<p>13193 rows × 2 columns</p>\n",
       "</div>"
      ],
      "text/plain": [
       "            Date  Disney Stock\n",
       "0     1970-03-25      0.750151\n",
       "1     1970-03-26      0.752720\n",
       "2     1970-03-30      0.762996\n",
       "3     1970-03-31      0.757858\n",
       "4     1970-04-01      0.775841\n",
       "...          ...           ...\n",
       "13188 2022-07-07     97.430000\n",
       "13189 2022-07-08     95.860001\n",
       "13190 2022-07-11     93.639999\n",
       "13191 2022-07-12     93.599998\n",
       "13192 2022-07-13     92.860001\n",
       "\n",
       "[13193 rows x 2 columns]"
      ]
     },
     "execution_count": 3,
     "metadata": {},
     "output_type": "execute_result"
    }
   ],
   "source": [
    "#Using Yahoo Finance API to get Netflix stock status\n",
    "disneyStock = get_data(\"DIS\", start_date = None, end_date = None, index_as_date = True, interval = \"1d\")\n",
    "\n",
    "#Creating the dataframe\n",
    "disneyStockDF = pd.DataFrame(columns = ['close'])\n",
    "disneyStockDF = disneyStockDF.append(disneyStock.iloc[:,3:4])\n",
    "disneyStockDF=disneyStockDF.rename_axis('Date').reset_index()\n",
    "disneyStockDF.rename(columns = {'close':'Disney Stock'}, inplace = True)\n",
    "\n",
    "#Saving the dataframe\n",
    "disneyStockDF.to_csv('data/disneyStockDF.csv')\n",
    "disneyStockDF"
   ]
  },
  {
   "cell_type": "code",
   "execution_count": 4,
   "id": "93d93a32",
   "metadata": {},
   "outputs": [
    {
     "data": {
      "text/html": [
       "<div>\n",
       "<style scoped>\n",
       "    .dataframe tbody tr th:only-of-type {\n",
       "        vertical-align: middle;\n",
       "    }\n",
       "\n",
       "    .dataframe tbody tr th {\n",
       "        vertical-align: top;\n",
       "    }\n",
       "\n",
       "    .dataframe thead th {\n",
       "        text-align: right;\n",
       "    }\n",
       "</style>\n",
       "<table border=\"1\" class=\"dataframe\">\n",
       "  <thead>\n",
       "    <tr style=\"text-align: right;\">\n",
       "      <th></th>\n",
       "      <th>Netflix Originals</th>\n",
       "      <th>Date</th>\n",
       "    </tr>\n",
       "  </thead>\n",
       "  <tbody>\n",
       "    <tr>\n",
       "      <th>0</th>\n",
       "      <td>Stranger Things</td>\n",
       "      <td>July 15, 2016</td>\n",
       "    </tr>\n",
       "    <tr>\n",
       "      <th>1</th>\n",
       "      <td>The Crown</td>\n",
       "      <td>November 4, 2016</td>\n",
       "    </tr>\n",
       "    <tr>\n",
       "      <th>2</th>\n",
       "      <td>The Umbrella Academy</td>\n",
       "      <td>February 15, 2019</td>\n",
       "    </tr>\n",
       "    <tr>\n",
       "      <th>3</th>\n",
       "      <td>Virgin River</td>\n",
       "      <td>December 6, 2019</td>\n",
       "    </tr>\n",
       "    <tr>\n",
       "      <th>4</th>\n",
       "      <td>The Witcher</td>\n",
       "      <td>December 20, 2019</td>\n",
       "    </tr>\n",
       "    <tr>\n",
       "      <th>...</th>\n",
       "      <td>...</td>\n",
       "      <td>...</td>\n",
       "    </tr>\n",
       "    <tr>\n",
       "      <th>0</th>\n",
       "      <td>Jurassic World Camp Cretaceous: Hidden Adventu...</td>\n",
       "      <td>2022[75]</td>\n",
       "    </tr>\n",
       "    <tr>\n",
       "      <th>1</th>\n",
       "      <td>The Last Kingdom: Seven Kings Must Die[535]</td>\n",
       "      <td>TBA</td>\n",
       "    </tr>\n",
       "    <tr>\n",
       "      <th>2</th>\n",
       "      <td>Untitled My Little Pony G5 special[394]</td>\n",
       "      <td>TBA</td>\n",
       "    </tr>\n",
       "    <tr>\n",
       "      <th>3</th>\n",
       "      <td>Untitled My Little Pony G5 special[394]</td>\n",
       "      <td>TBA</td>\n",
       "    </tr>\n",
       "    <tr>\n",
       "      <th>4</th>\n",
       "      <td>Untitled The Witcher spin-off film[395]</td>\n",
       "      <td>TBA</td>\n",
       "    </tr>\n",
       "  </tbody>\n",
       "</table>\n",
       "<p>639 rows × 2 columns</p>\n",
       "</div>"
      ],
      "text/plain": [
       "                                    Netflix Originals               Date\n",
       "0                                     Stranger Things      July 15, 2016\n",
       "1                                           The Crown   November 4, 2016\n",
       "2                                The Umbrella Academy  February 15, 2019\n",
       "3                                        Virgin River   December 6, 2019\n",
       "4                                         The Witcher  December 20, 2019\n",
       "..                                                ...                ...\n",
       "0   Jurassic World Camp Cretaceous: Hidden Adventu...           2022[75]\n",
       "1         The Last Kingdom: Seven Kings Must Die[535]                TBA\n",
       "2             Untitled My Little Pony G5 special[394]                TBA\n",
       "3             Untitled My Little Pony G5 special[394]                TBA\n",
       "4             Untitled The Witcher spin-off film[395]                TBA\n",
       "\n",
       "[639 rows x 2 columns]"
      ]
     },
     "execution_count": 4,
     "metadata": {},
     "output_type": "execute_result"
    }
   ],
   "source": [
    "#crawling on wikipedia - List_of_Netflix_original_programming\n",
    "netflixOriginalsLaunchDateUrl='https://en.wikipedia.org/wiki/List_of_Netflix_original_programming'\n",
    "\n",
    "#creating dataframe\n",
    "netflixOriginalsDF=pd.DataFrame(columns = ['Title','Premiere'])\n",
    "for table in pd.read_html(netflixOriginalsLaunchDateUrl):\n",
    "    if {'Title','Premiere'}.issubset(table.columns):\n",
    "        netflixOriginalsDF = netflixOriginalsDF.append(table.loc[:,['Title','Premiere']])\n",
    "\n",
    "#Rename columns\n",
    "netflixOriginalsDF.rename(columns = {'Title' : 'Netflix Originals', 'Premiere' : 'Date'}, inplace = True)\n",
    "\n",
    "#Saving the dataframe\n",
    "netflixOriginalsDF.to_csv('data/netflixOriginalsDF.csv')\n",
    "netflixOriginalsDF"
   ]
  },
  {
   "cell_type": "code",
   "execution_count": 5,
   "id": "c3d49722",
   "metadata": {},
   "outputs": [
    {
     "data": {
      "text/html": [
       "<div>\n",
       "<style scoped>\n",
       "    .dataframe tbody tr th:only-of-type {\n",
       "        vertical-align: middle;\n",
       "    }\n",
       "\n",
       "    .dataframe tbody tr th {\n",
       "        vertical-align: top;\n",
       "    }\n",
       "\n",
       "    .dataframe thead th {\n",
       "        text-align: right;\n",
       "    }\n",
       "</style>\n",
       "<table border=\"1\" class=\"dataframe\">\n",
       "  <thead>\n",
       "    <tr style=\"text-align: right;\">\n",
       "      <th></th>\n",
       "      <th>Date</th>\n",
       "      <th>Netflix Premium</th>\n",
       "      <th>Netflix Standard</th>\n",
       "      <th>Netflix Basic</th>\n",
       "    </tr>\n",
       "  </thead>\n",
       "  <tbody>\n",
       "    <tr>\n",
       "      <th>1</th>\n",
       "      <td>Jan 2022</td>\n",
       "      <td>$19.99</td>\n",
       "      <td>$15.49</td>\n",
       "      <td>$9.99</td>\n",
       "    </tr>\n",
       "    <tr>\n",
       "      <th>2</th>\n",
       "      <td>Oct 2020</td>\n",
       "      <td>$17.99</td>\n",
       "      <td>$13.99</td>\n",
       "      <td>$8.99</td>\n",
       "    </tr>\n",
       "    <tr>\n",
       "      <th>3</th>\n",
       "      <td>Jan 2019</td>\n",
       "      <td>$15.99</td>\n",
       "      <td>$12.99</td>\n",
       "      <td>$8.99</td>\n",
       "    </tr>\n",
       "    <tr>\n",
       "      <th>4</th>\n",
       "      <td>Oct 2017</td>\n",
       "      <td>$13.99</td>\n",
       "      <td>$10.99</td>\n",
       "      <td>$7.99</td>\n",
       "    </tr>\n",
       "    <tr>\n",
       "      <th>5</th>\n",
       "      <td>Oct 2015</td>\n",
       "      <td>$11.99</td>\n",
       "      <td>$9.99</td>\n",
       "      <td>$7.99</td>\n",
       "    </tr>\n",
       "    <tr>\n",
       "      <th>6</th>\n",
       "      <td>Apr 2014</td>\n",
       "      <td>$11.99</td>\n",
       "      <td>$8.99</td>\n",
       "      <td>$7.99</td>\n",
       "    </tr>\n",
       "    <tr>\n",
       "      <th>7</th>\n",
       "      <td>Apr 2013</td>\n",
       "      <td>$11.99</td>\n",
       "      <td>$7.99</td>\n",
       "      <td>NaN</td>\n",
       "    </tr>\n",
       "    <tr>\n",
       "      <th>8</th>\n",
       "      <td>2011</td>\n",
       "      <td>NaN</td>\n",
       "      <td>$7.99</td>\n",
       "      <td>NaN</td>\n",
       "    </tr>\n",
       "  </tbody>\n",
       "</table>\n",
       "</div>"
      ],
      "text/plain": [
       "       Date Netflix Premium Netflix Standard Netflix Basic\n",
       "1  Jan 2022          $19.99           $15.49         $9.99\n",
       "2  Oct 2020          $17.99           $13.99         $8.99\n",
       "3  Jan 2019          $15.99           $12.99         $8.99\n",
       "4  Oct 2017          $13.99           $10.99         $7.99\n",
       "5  Oct 2015          $11.99            $9.99         $7.99\n",
       "6  Apr 2014          $11.99            $8.99         $7.99\n",
       "7  Apr 2013          $11.99            $7.99           NaN\n",
       "8      2011             NaN            $7.99           NaN"
      ]
     },
     "execution_count": 5,
     "metadata": {},
     "output_type": "execute_result"
    }
   ],
   "source": [
    "#crawling on theverge website to get netflix subscription price changes\n",
    "netflixSubscriptionPricesUrl = \"https://www.theverge.com/2022/1/14/22884263/netflix-price-increases-2021-us-canada-all-plans-hd-4k\"\n",
    "table = pd.read_html(netflixSubscriptionPricesUrl)\n",
    "\n",
    "#creating dataframe\n",
    "netflixSubscriptionPricesDF = pd.DataFrame (columns = ['Price', 'Jan 2022', 'Oct 2020', 'Jan 2019', 'Oct 2017', 'Oct 2015', 'Apr 2014', 'Apr 2013', '2011'])\n",
    "netflixSubscriptionPricesDF = ((netflixSubscriptionPricesDF.append (table)[:-1]).transpose())\n",
    "\n",
    "#Rename columns\n",
    "netflixSubscriptionPricesDF.columns=['Netflix Premium', 'Netflix Standard', 'Netflix Basic']\n",
    "netflixSubscriptionPricesDF=netflixSubscriptionPricesDF.rename_axis('Date').reset_index().loc[1:]\n",
    "\n",
    "\n",
    "#Saving the dataframe\n",
    "netflixSubscriptionPricesDF.to_csv('data/netflixSubscriptionPricesDF.csv')\n",
    "netflixSubscriptionPricesDF"
   ]
  },
  {
   "cell_type": "code",
   "execution_count": 6,
   "id": "57510172",
   "metadata": {},
   "outputs": [
    {
     "data": {
      "text/html": [
       "<div>\n",
       "<style scoped>\n",
       "    .dataframe tbody tr th:only-of-type {\n",
       "        vertical-align: middle;\n",
       "    }\n",
       "\n",
       "    .dataframe tbody tr th {\n",
       "        vertical-align: top;\n",
       "    }\n",
       "\n",
       "    .dataframe thead th {\n",
       "        text-align: right;\n",
       "    }\n",
       "</style>\n",
       "<table border=\"1\" class=\"dataframe\">\n",
       "  <thead>\n",
       "    <tr style=\"text-align: right;\">\n",
       "      <th></th>\n",
       "      <th>Hulu Originals</th>\n",
       "      <th>Date</th>\n",
       "    </tr>\n",
       "  </thead>\n",
       "  <tbody>\n",
       "    <tr>\n",
       "      <th>0</th>\n",
       "      <td>East Los High</td>\n",
       "      <td>June 3, 2013</td>\n",
       "    </tr>\n",
       "    <tr>\n",
       "      <th>1</th>\n",
       "      <td>11.22.63</td>\n",
       "      <td>February 15, 2016</td>\n",
       "    </tr>\n",
       "    <tr>\n",
       "      <th>2</th>\n",
       "      <td>The Path</td>\n",
       "      <td>March 30, 2016</td>\n",
       "    </tr>\n",
       "    <tr>\n",
       "      <th>3</th>\n",
       "      <td>Freakish</td>\n",
       "      <td>October 10, 2016</td>\n",
       "    </tr>\n",
       "    <tr>\n",
       "      <th>4</th>\n",
       "      <td>Shut Eye</td>\n",
       "      <td>December 7, 2016</td>\n",
       "    </tr>\n",
       "    <tr>\n",
       "      <th>...</th>\n",
       "      <td>...</td>\n",
       "      <td>...</td>\n",
       "    </tr>\n",
       "    <tr>\n",
       "      <th>15</th>\n",
       "      <td>Jann</td>\n",
       "      <td>2021–</td>\n",
       "    </tr>\n",
       "    <tr>\n",
       "      <th>16</th>\n",
       "      <td>Rūrangi</td>\n",
       "      <td>2021</td>\n",
       "    </tr>\n",
       "    <tr>\n",
       "      <th>17</th>\n",
       "      <td>Bloods</td>\n",
       "      <td>2021</td>\n",
       "    </tr>\n",
       "    <tr>\n",
       "      <th>18</th>\n",
       "      <td>Creamerie</td>\n",
       "      <td>2021</td>\n",
       "    </tr>\n",
       "    <tr>\n",
       "      <th>19</th>\n",
       "      <td>Shoresy</td>\n",
       "      <td>2022</td>\n",
       "    </tr>\n",
       "  </tbody>\n",
       "</table>\n",
       "<p>171 rows × 2 columns</p>\n",
       "</div>"
      ],
      "text/plain": [
       "   Hulu Originals               Date\n",
       "0   East Los High       June 3, 2013\n",
       "1        11.22.63  February 15, 2016\n",
       "2        The Path     March 30, 2016\n",
       "3        Freakish   October 10, 2016\n",
       "4        Shut Eye   December 7, 2016\n",
       "..            ...                ...\n",
       "15           Jann              2021–\n",
       "16        Rūrangi               2021\n",
       "17         Bloods               2021\n",
       "18      Creamerie               2021\n",
       "19        Shoresy               2022\n",
       "\n",
       "[171 rows x 2 columns]"
      ]
     },
     "execution_count": 6,
     "metadata": {},
     "output_type": "execute_result"
    }
   ],
   "source": [
    "#crawling on wikipedia - List_of_Hulu_original_programming\n",
    "import numpy as np\n",
    "huluOriginalsLaunchDateUrl = \"https://en.wikipedia.org/wiki/List_of_Hulu_original_programming\"\n",
    "\n",
    "#creating dataframe\n",
    "huluOriginalsDF=pd.DataFrame(columns = ['Title','Premiere'])\n",
    "for table in pd.read_html(huluOriginalsLaunchDateUrl):\n",
    "    if {'Title','Premiere'}.issubset(table.columns):\n",
    "        huluOriginalsDF = huluOriginalsDF.append(table.loc[:,['Title','Premiere']])\n",
    "    elif {'Title','Run'}.issubset(table.columns):\n",
    "        huluOriginalsDF = huluOriginalsDF.append(table.loc[:,['Title','Run']])\n",
    "\n",
    "#Rename columns\n",
    "huluOriginalsDF.fillna('', inplace=True)\n",
    "huluOriginalsDF['Date']=huluOriginalsDF['Premiere'].astype(str)+huluOriginalsDF['Run'].astype(str)\n",
    "huluOriginalsDF=huluOriginalsDF.loc[:,['Title', 'Date']]\n",
    "huluOriginalsDF.rename(columns = {'Title' : 'Hulu Originals'}, inplace = True)\n",
    "\n",
    "#Saving the dataframe\n",
    "huluOriginalsDF.to_csv('data/huluOriginalsDF.csv')\n",
    "huluOriginalsDF"
   ]
  },
  {
   "cell_type": "code",
   "execution_count": 7,
   "id": "d91c7751",
   "metadata": {},
   "outputs": [
    {
     "data": {
      "text/html": [
       "<div>\n",
       "<style scoped>\n",
       "    .dataframe tbody tr th:only-of-type {\n",
       "        vertical-align: middle;\n",
       "    }\n",
       "\n",
       "    .dataframe tbody tr th {\n",
       "        vertical-align: top;\n",
       "    }\n",
       "\n",
       "    .dataframe thead th {\n",
       "        text-align: right;\n",
       "    }\n",
       "</style>\n",
       "<table border=\"1\" class=\"dataframe\">\n",
       "  <thead>\n",
       "    <tr style=\"text-align: right;\">\n",
       "      <th></th>\n",
       "      <th>Covid-19 Cases</th>\n",
       "    </tr>\n",
       "    <tr>\n",
       "      <th>Date</th>\n",
       "      <th></th>\n",
       "    </tr>\n",
       "  </thead>\n",
       "  <tbody>\n",
       "    <tr>\n",
       "      <th>2020-01-01</th>\n",
       "      <td>0.000000e+00</td>\n",
       "    </tr>\n",
       "    <tr>\n",
       "      <th>2020-01-02</th>\n",
       "      <td>0.000000e+00</td>\n",
       "    </tr>\n",
       "    <tr>\n",
       "      <th>2020-01-03</th>\n",
       "      <td>0.000000e+00</td>\n",
       "    </tr>\n",
       "    <tr>\n",
       "      <th>2020-01-04</th>\n",
       "      <td>0.000000e+00</td>\n",
       "    </tr>\n",
       "    <tr>\n",
       "      <th>2020-01-05</th>\n",
       "      <td>0.000000e+00</td>\n",
       "    </tr>\n",
       "    <tr>\n",
       "      <th>...</th>\n",
       "      <td>...</td>\n",
       "    </tr>\n",
       "    <tr>\n",
       "      <th>2022-03-01</th>\n",
       "      <td>1.863070e+09</td>\n",
       "    </tr>\n",
       "    <tr>\n",
       "      <th>2022-03-02</th>\n",
       "      <td>1.870215e+09</td>\n",
       "    </tr>\n",
       "    <tr>\n",
       "      <th>2022-03-03</th>\n",
       "      <td>1.878458e+09</td>\n",
       "    </tr>\n",
       "    <tr>\n",
       "      <th>2022-03-04</th>\n",
       "      <td>1.885818e+09</td>\n",
       "    </tr>\n",
       "    <tr>\n",
       "      <th>2022-03-05</th>\n",
       "      <td>1.891678e+09</td>\n",
       "    </tr>\n",
       "  </tbody>\n",
       "</table>\n",
       "<p>795 rows × 1 columns</p>\n",
       "</div>"
      ],
      "text/plain": [
       "            Covid-19 Cases\n",
       "Date                      \n",
       "2020-01-01    0.000000e+00\n",
       "2020-01-02    0.000000e+00\n",
       "2020-01-03    0.000000e+00\n",
       "2020-01-04    0.000000e+00\n",
       "2020-01-05    0.000000e+00\n",
       "...                    ...\n",
       "2022-03-01    1.863070e+09\n",
       "2022-03-02    1.870215e+09\n",
       "2022-03-03    1.878458e+09\n",
       "2022-03-04    1.885818e+09\n",
       "2022-03-05    1.891678e+09\n",
       "\n",
       "[795 rows x 1 columns]"
      ]
     },
     "execution_count": 7,
     "metadata": {},
     "output_type": "execute_result"
    }
   ],
   "source": [
    "#Using kaggle API to get the number of covid-19 cases\n",
    "kaggle.api.authenticate()\n",
    "kaggle.api.dataset_download_file('georgesaavedra/covid19-dataset', file_name='owid-covid-data.csv',  path='data/')\n",
    "\n",
    "#creating dataframe\n",
    "covid19DF = (pd.read_csv('data/owid-covid-data.csv.zip')).loc[:, ['date', 'total_cases']]\n",
    "\n",
    "#Rename columns\n",
    "covid19DF.rename(columns = {'date' : 'Date', 'total_cases' : 'Covid-19 Cases'}, inplace = True)\n",
    "\n",
    "##Group rows by Date column and sum the list of covid-19 cases from each country\n",
    "covid19DF=covid19DF.groupby(['Date'],dropna=True).sum()\n",
    "\n",
    "#Saving the dataframe\n",
    "covid19DF.to_csv('data/covid19DF.csv')\n",
    "covid19DF"
   ]
  },
  {
   "cell_type": "code",
   "execution_count": 8,
   "id": "7cd755a8",
   "metadata": {},
   "outputs": [
    {
     "data": {
      "text/html": [
       "<div>\n",
       "<style scoped>\n",
       "    .dataframe tbody tr th:only-of-type {\n",
       "        vertical-align: middle;\n",
       "    }\n",
       "\n",
       "    .dataframe tbody tr th {\n",
       "        vertical-align: top;\n",
       "    }\n",
       "\n",
       "    .dataframe thead th {\n",
       "        text-align: right;\n",
       "    }\n",
       "</style>\n",
       "<table border=\"1\" class=\"dataframe\">\n",
       "  <thead>\n",
       "    <tr style=\"text-align: right;\">\n",
       "      <th></th>\n",
       "      <th>Date</th>\n",
       "      <th>Disney Launch</th>\n",
       "    </tr>\n",
       "  </thead>\n",
       "  <tbody>\n",
       "    <tr>\n",
       "      <th>0</th>\n",
       "      <td>November 12, 2019</td>\n",
       "      <td>Canada</td>\n",
       "    </tr>\n",
       "    <tr>\n",
       "      <th>1</th>\n",
       "      <td>November 12, 2019</td>\n",
       "      <td>Netherlands[m]</td>\n",
       "    </tr>\n",
       "    <tr>\n",
       "      <th>2</th>\n",
       "      <td>November 12, 2019</td>\n",
       "      <td>United States</td>\n",
       "    </tr>\n",
       "    <tr>\n",
       "      <th>3</th>\n",
       "      <td>November 19, 2019[39]</td>\n",
       "      <td>Australia</td>\n",
       "    </tr>\n",
       "    <tr>\n",
       "      <th>4</th>\n",
       "      <td>November 19, 2019[39]</td>\n",
       "      <td>New Zealand</td>\n",
       "    </tr>\n",
       "    <tr>\n",
       "      <th>...</th>\n",
       "      <td>...</td>\n",
       "      <td>...</td>\n",
       "    </tr>\n",
       "    <tr>\n",
       "      <th>130</th>\n",
       "      <td>June 14, 2022[3]</td>\n",
       "      <td>Turkey</td>\n",
       "    </tr>\n",
       "    <tr>\n",
       "      <th>131</th>\n",
       "      <td>June 14, 2022[3]</td>\n",
       "      <td>Vatican City</td>\n",
       "    </tr>\n",
       "    <tr>\n",
       "      <th>132</th>\n",
       "      <td>June 16, 2022[3]</td>\n",
       "      <td>Israel</td>\n",
       "    </tr>\n",
       "    <tr>\n",
       "      <th>133</th>\n",
       "      <td>2022[4][citation needed]</td>\n",
       "      <td>Philippines</td>\n",
       "    </tr>\n",
       "    <tr>\n",
       "      <th>134</th>\n",
       "      <td>2022[4][citation needed]</td>\n",
       "      <td>Vietnam</td>\n",
       "    </tr>\n",
       "  </tbody>\n",
       "</table>\n",
       "<p>135 rows × 2 columns</p>\n",
       "</div>"
      ],
      "text/plain": [
       "                         Date   Disney Launch\n",
       "0           November 12, 2019          Canada\n",
       "1           November 12, 2019  Netherlands[m]\n",
       "2           November 12, 2019   United States\n",
       "3       November 19, 2019[39]       Australia\n",
       "4       November 19, 2019[39]     New Zealand\n",
       "..                        ...             ...\n",
       "130          June 14, 2022[3]          Turkey\n",
       "131          June 14, 2022[3]    Vatican City\n",
       "132          June 16, 2022[3]          Israel\n",
       "133  2022[4][citation needed]     Philippines\n",
       "134  2022[4][citation needed]         Vietnam\n",
       "\n",
       "[135 rows x 2 columns]"
      ]
     },
     "execution_count": 8,
     "metadata": {},
     "output_type": "execute_result"
    }
   ],
   "source": [
    "#crawling on wikipedia - Launch_rollout_timeline_of_Disney+\n",
    "disneyLaunchDateUrl = \"https://en.wikipedia.org/wiki/Disney%2B\"\n",
    "\n",
    "#creating dataframe\n",
    "disneyLaunchDF=pd.DataFrame(columns = ['Release date','Country/Territory'])\n",
    "for table in pd.read_html(disneyLaunchDateUrl):\n",
    "    if {'Release date','Country/Territory'}.issubset(table.columns):\n",
    "        disneyLaunchDF = disneyLaunchDF.append(table.loc[:,['Release date','Country/Territory']])\n",
    "\n",
    "#Rename columns\n",
    "disneyLaunchDF.rename(columns = {'Release date' : 'Date', 'Country/Territory' : 'Disney Launch'}, inplace = True)\n",
    "\n",
    "#Saving the dataframe\n",
    "disneyLaunchDF.to_csv('data/disneyLaunchDF.csv')\n",
    "disneyLaunchDF"
   ]
  },
  {
   "cell_type": "code",
   "execution_count": 41,
   "id": "1d063ba9",
   "metadata": {},
   "outputs": [
    {
     "data": {
      "text/html": [
       "<div>\n",
       "<style scoped>\n",
       "    .dataframe tbody tr th:only-of-type {\n",
       "        vertical-align: middle;\n",
       "    }\n",
       "\n",
       "    .dataframe tbody tr th {\n",
       "        vertical-align: top;\n",
       "    }\n",
       "\n",
       "    .dataframe thead th {\n",
       "        text-align: right;\n",
       "    }\n",
       "</style>\n",
       "<table border=\"1\" class=\"dataframe\">\n",
       "  <thead>\n",
       "    <tr style=\"text-align: right;\">\n",
       "      <th></th>\n",
       "      <th>Date</th>\n",
       "      <th>Netflix Stock</th>\n",
       "      <th>Disney Stock</th>\n",
       "      <th>Netflix Originals</th>\n",
       "      <th>Netflix Premium</th>\n",
       "      <th>Netflix Standard</th>\n",
       "      <th>Netflix Basic</th>\n",
       "      <th>Hulu Originals</th>\n",
       "      <th>Covid-19 Cases</th>\n",
       "      <th>Disney Launch</th>\n",
       "    </tr>\n",
       "  </thead>\n",
       "  <tbody>\n",
       "    <tr>\n",
       "      <th>0</th>\n",
       "      <td>2002-05-23</td>\n",
       "      <td>1.196429</td>\n",
       "      <td>NaN</td>\n",
       "      <td>NaN</td>\n",
       "      <td>NaN</td>\n",
       "      <td>NaN</td>\n",
       "      <td>NaN</td>\n",
       "      <td>NaN</td>\n",
       "      <td>NaN</td>\n",
       "      <td>NaN</td>\n",
       "    </tr>\n",
       "    <tr>\n",
       "      <th>1</th>\n",
       "      <td>2002-05-24</td>\n",
       "      <td>1.210000</td>\n",
       "      <td>NaN</td>\n",
       "      <td>NaN</td>\n",
       "      <td>NaN</td>\n",
       "      <td>NaN</td>\n",
       "      <td>NaN</td>\n",
       "      <td>NaN</td>\n",
       "      <td>NaN</td>\n",
       "      <td>NaN</td>\n",
       "    </tr>\n",
       "    <tr>\n",
       "      <th>2</th>\n",
       "      <td>2002-05-28</td>\n",
       "      <td>1.157143</td>\n",
       "      <td>NaN</td>\n",
       "      <td>NaN</td>\n",
       "      <td>NaN</td>\n",
       "      <td>NaN</td>\n",
       "      <td>NaN</td>\n",
       "      <td>NaN</td>\n",
       "      <td>NaN</td>\n",
       "      <td>NaN</td>\n",
       "    </tr>\n",
       "    <tr>\n",
       "      <th>3</th>\n",
       "      <td>2002-05-29</td>\n",
       "      <td>1.103571</td>\n",
       "      <td>NaN</td>\n",
       "      <td>NaN</td>\n",
       "      <td>NaN</td>\n",
       "      <td>NaN</td>\n",
       "      <td>NaN</td>\n",
       "      <td>NaN</td>\n",
       "      <td>NaN</td>\n",
       "      <td>NaN</td>\n",
       "    </tr>\n",
       "    <tr>\n",
       "      <th>4</th>\n",
       "      <td>2002-05-30</td>\n",
       "      <td>1.071429</td>\n",
       "      <td>NaN</td>\n",
       "      <td>NaN</td>\n",
       "      <td>NaN</td>\n",
       "      <td>NaN</td>\n",
       "      <td>NaN</td>\n",
       "      <td>NaN</td>\n",
       "      <td>NaN</td>\n",
       "      <td>NaN</td>\n",
       "    </tr>\n",
       "    <tr>\n",
       "      <th>...</th>\n",
       "      <td>...</td>\n",
       "      <td>...</td>\n",
       "      <td>...</td>\n",
       "      <td>...</td>\n",
       "      <td>...</td>\n",
       "      <td>...</td>\n",
       "      <td>...</td>\n",
       "      <td>...</td>\n",
       "      <td>...</td>\n",
       "      <td>...</td>\n",
       "    </tr>\n",
       "    <tr>\n",
       "      <th>20006</th>\n",
       "      <td>June 14, 2022[3]</td>\n",
       "      <td>NaN</td>\n",
       "      <td>NaN</td>\n",
       "      <td>NaN</td>\n",
       "      <td>NaN</td>\n",
       "      <td>NaN</td>\n",
       "      <td>NaN</td>\n",
       "      <td>NaN</td>\n",
       "      <td>NaN</td>\n",
       "      <td>Turkey</td>\n",
       "    </tr>\n",
       "    <tr>\n",
       "      <th>20007</th>\n",
       "      <td>June 14, 2022[3]</td>\n",
       "      <td>NaN</td>\n",
       "      <td>NaN</td>\n",
       "      <td>NaN</td>\n",
       "      <td>NaN</td>\n",
       "      <td>NaN</td>\n",
       "      <td>NaN</td>\n",
       "      <td>NaN</td>\n",
       "      <td>NaN</td>\n",
       "      <td>Vatican City</td>\n",
       "    </tr>\n",
       "    <tr>\n",
       "      <th>20008</th>\n",
       "      <td>June 16, 2022[3]</td>\n",
       "      <td>NaN</td>\n",
       "      <td>NaN</td>\n",
       "      <td>NaN</td>\n",
       "      <td>NaN</td>\n",
       "      <td>NaN</td>\n",
       "      <td>NaN</td>\n",
       "      <td>NaN</td>\n",
       "      <td>NaN</td>\n",
       "      <td>Israel</td>\n",
       "    </tr>\n",
       "    <tr>\n",
       "      <th>20009</th>\n",
       "      <td>2022[4][citation needed]</td>\n",
       "      <td>NaN</td>\n",
       "      <td>NaN</td>\n",
       "      <td>NaN</td>\n",
       "      <td>NaN</td>\n",
       "      <td>NaN</td>\n",
       "      <td>NaN</td>\n",
       "      <td>NaN</td>\n",
       "      <td>NaN</td>\n",
       "      <td>Philippines</td>\n",
       "    </tr>\n",
       "    <tr>\n",
       "      <th>20010</th>\n",
       "      <td>2022[4][citation needed]</td>\n",
       "      <td>NaN</td>\n",
       "      <td>NaN</td>\n",
       "      <td>NaN</td>\n",
       "      <td>NaN</td>\n",
       "      <td>NaN</td>\n",
       "      <td>NaN</td>\n",
       "      <td>NaN</td>\n",
       "      <td>NaN</td>\n",
       "      <td>Vietnam</td>\n",
       "    </tr>\n",
       "  </tbody>\n",
       "</table>\n",
       "<p>20011 rows × 10 columns</p>\n",
       "</div>"
      ],
      "text/plain": [
       "                           Date  Netflix Stock  Disney Stock  \\\n",
       "0                    2002-05-23       1.196429           NaN   \n",
       "1                    2002-05-24       1.210000           NaN   \n",
       "2                    2002-05-28       1.157143           NaN   \n",
       "3                    2002-05-29       1.103571           NaN   \n",
       "4                    2002-05-30       1.071429           NaN   \n",
       "...                         ...            ...           ...   \n",
       "20006          June 14, 2022[3]            NaN           NaN   \n",
       "20007          June 14, 2022[3]            NaN           NaN   \n",
       "20008          June 16, 2022[3]            NaN           NaN   \n",
       "20009  2022[4][citation needed]            NaN           NaN   \n",
       "20010  2022[4][citation needed]            NaN           NaN   \n",
       "\n",
       "      Netflix Originals Netflix Premium Netflix Standard Netflix Basic  \\\n",
       "0                   NaN             NaN              NaN           NaN   \n",
       "1                   NaN             NaN              NaN           NaN   \n",
       "2                   NaN             NaN              NaN           NaN   \n",
       "3                   NaN             NaN              NaN           NaN   \n",
       "4                   NaN             NaN              NaN           NaN   \n",
       "...                 ...             ...              ...           ...   \n",
       "20006               NaN             NaN              NaN           NaN   \n",
       "20007               NaN             NaN              NaN           NaN   \n",
       "20008               NaN             NaN              NaN           NaN   \n",
       "20009               NaN             NaN              NaN           NaN   \n",
       "20010               NaN             NaN              NaN           NaN   \n",
       "\n",
       "      Hulu Originals  Covid-19 Cases Disney Launch  \n",
       "0                NaN             NaN           NaN  \n",
       "1                NaN             NaN           NaN  \n",
       "2                NaN             NaN           NaN  \n",
       "3                NaN             NaN           NaN  \n",
       "4                NaN             NaN           NaN  \n",
       "...              ...             ...           ...  \n",
       "20006            NaN             NaN        Turkey  \n",
       "20007            NaN             NaN  Vatican City  \n",
       "20008            NaN             NaN        Israel  \n",
       "20009            NaN             NaN   Philippines  \n",
       "20010            NaN             NaN       Vietnam  \n",
       "\n",
       "[20011 rows x 10 columns]"
      ]
     },
     "execution_count": 41,
     "metadata": {},
     "output_type": "execute_result"
    }
   ],
   "source": [
    " #Unification all dataframes into a single dataframe\n",
    "unifiedDF = pd.concat(map(pd.read_csv, ['data/netflixStockDF.csv', 'data/disneyStockDF.csv', 'data/netflixOriginalsDF.csv', 'data/netflixSubscriptionPricesDF.csv', 'data/huluOriginalsDF.csv', 'data/covid19DF.csv', 'data/disneyLaunchDF.csv']), ignore_index=True)\n",
    "\n",
    "#Deletion of an empty column which created diplomatically from the union\n",
    "del unifiedDF['Unnamed: 0']\n",
    "\n",
    "#Saving the dataframe\n",
    "unifiedDF.to_csv('data/unifiedDF.csv')\n",
    "unifiedDF"
   ]
  },
  {
   "cell_type": "code",
   "execution_count": 42,
   "id": "f56ec15c",
   "metadata": {},
   "outputs": [
    {
     "name": "stdout",
     "output_type": "stream",
     "text": [
      "<class 'pandas.core.frame.DataFrame'>\n",
      "RangeIndex: 20011 entries, 0 to 20010\n",
      "Data columns (total 10 columns):\n",
      " #   Column             Non-Null Count  Dtype  \n",
      "---  ------             --------------  -----  \n",
      " 0   Date               20009 non-null  object \n",
      " 1   Netflix Stock      5070 non-null   float64\n",
      " 2   Disney Stock       13193 non-null  float64\n",
      " 3   Netflix Originals  639 non-null    object \n",
      " 4   Netflix Premium    7 non-null      object \n",
      " 5   Netflix Standard   8 non-null      object \n",
      " 6   Netflix Basic      6 non-null      object \n",
      " 7   Hulu Originals     171 non-null    object \n",
      " 8   Covid-19 Cases     795 non-null    float64\n",
      " 9   Disney Launch      135 non-null    object \n",
      "dtypes: float64(3), object(7)\n",
      "memory usage: 1.5+ MB\n"
     ]
    },
    {
     "data": {
      "text/html": [
       "<div>\n",
       "<style scoped>\n",
       "    .dataframe tbody tr th:only-of-type {\n",
       "        vertical-align: middle;\n",
       "    }\n",
       "\n",
       "    .dataframe tbody tr th {\n",
       "        vertical-align: top;\n",
       "    }\n",
       "\n",
       "    .dataframe thead th {\n",
       "        text-align: right;\n",
       "    }\n",
       "</style>\n",
       "<table border=\"1\" class=\"dataframe\">\n",
       "  <thead>\n",
       "    <tr style=\"text-align: right;\">\n",
       "      <th></th>\n",
       "      <th>Date</th>\n",
       "      <th>Netflix Stock</th>\n",
       "      <th>Disney Stock</th>\n",
       "      <th>Netflix Originals</th>\n",
       "      <th>Netflix Premium</th>\n",
       "      <th>Netflix Standard</th>\n",
       "      <th>Netflix Basic</th>\n",
       "      <th>Hulu Originals</th>\n",
       "      <th>Covid-19 Cases</th>\n",
       "      <th>Disney Launch</th>\n",
       "    </tr>\n",
       "  </thead>\n",
       "  <tbody>\n",
       "    <tr>\n",
       "      <th>count</th>\n",
       "      <td>20009</td>\n",
       "      <td>5070.000000</td>\n",
       "      <td>13193.000000</td>\n",
       "      <td>639</td>\n",
       "      <td>7</td>\n",
       "      <td>8</td>\n",
       "      <td>6</td>\n",
       "      <td>171</td>\n",
       "      <td>7.950000e+02</td>\n",
       "      <td>135</td>\n",
       "    </tr>\n",
       "    <tr>\n",
       "      <th>unique</th>\n",
       "      <td>13886</td>\n",
       "      <td>NaN</td>\n",
       "      <td>NaN</td>\n",
       "      <td>624</td>\n",
       "      <td>5</td>\n",
       "      <td>7</td>\n",
       "      <td>3</td>\n",
       "      <td>168</td>\n",
       "      <td>NaN</td>\n",
       "      <td>135</td>\n",
       "    </tr>\n",
       "    <tr>\n",
       "      <th>top</th>\n",
       "      <td>TBA</td>\n",
       "      <td>NaN</td>\n",
       "      <td>NaN</td>\n",
       "      <td>Awaiting release</td>\n",
       "      <td>$11.99</td>\n",
       "      <td>$7.99</td>\n",
       "      <td>$7.99</td>\n",
       "      <td>Awaiting release</td>\n",
       "      <td>NaN</td>\n",
       "      <td>Canada</td>\n",
       "    </tr>\n",
       "    <tr>\n",
       "      <th>freq</th>\n",
       "      <td>218</td>\n",
       "      <td>NaN</td>\n",
       "      <td>NaN</td>\n",
       "      <td>13</td>\n",
       "      <td>3</td>\n",
       "      <td>2</td>\n",
       "      <td>3</td>\n",
       "      <td>3</td>\n",
       "      <td>NaN</td>\n",
       "      <td>1</td>\n",
       "    </tr>\n",
       "    <tr>\n",
       "      <th>mean</th>\n",
       "      <td>NaN</td>\n",
       "      <td>116.793248</td>\n",
       "      <td>32.092089</td>\n",
       "      <td>NaN</td>\n",
       "      <td>NaN</td>\n",
       "      <td>NaN</td>\n",
       "      <td>NaN</td>\n",
       "      <td>NaN</td>\n",
       "      <td>5.209034e+08</td>\n",
       "      <td>NaN</td>\n",
       "    </tr>\n",
       "    <tr>\n",
       "      <th>std</th>\n",
       "      <td>NaN</td>\n",
       "      <td>168.301799</td>\n",
       "      <td>41.801915</td>\n",
       "      <td>NaN</td>\n",
       "      <td>NaN</td>\n",
       "      <td>NaN</td>\n",
       "      <td>NaN</td>\n",
       "      <td>NaN</td>\n",
       "      <td>4.912468e+08</td>\n",
       "      <td>NaN</td>\n",
       "    </tr>\n",
       "    <tr>\n",
       "      <th>min</th>\n",
       "      <td>NaN</td>\n",
       "      <td>0.372857</td>\n",
       "      <td>0.359661</td>\n",
       "      <td>NaN</td>\n",
       "      <td>NaN</td>\n",
       "      <td>NaN</td>\n",
       "      <td>NaN</td>\n",
       "      <td>NaN</td>\n",
       "      <td>0.000000e+00</td>\n",
       "      <td>NaN</td>\n",
       "    </tr>\n",
       "    <tr>\n",
       "      <th>25%</th>\n",
       "      <td>NaN</td>\n",
       "      <td>3.964643</td>\n",
       "      <td>1.554251</td>\n",
       "      <td>NaN</td>\n",
       "      <td>NaN</td>\n",
       "      <td>NaN</td>\n",
       "      <td>NaN</td>\n",
       "      <td>NaN</td>\n",
       "      <td>5.802148e+07</td>\n",
       "      <td>NaN</td>\n",
       "    </tr>\n",
       "    <tr>\n",
       "      <th>50%</th>\n",
       "      <td>NaN</td>\n",
       "      <td>26.038571</td>\n",
       "      <td>18.168041</td>\n",
       "      <td>NaN</td>\n",
       "      <td>NaN</td>\n",
       "      <td>NaN</td>\n",
       "      <td>NaN</td>\n",
       "      <td>NaN</td>\n",
       "      <td>4.349659e+08</td>\n",
       "      <td>NaN</td>\n",
       "    </tr>\n",
       "    <tr>\n",
       "      <th>75%</th>\n",
       "      <td>NaN</td>\n",
       "      <td>161.042496</td>\n",
       "      <td>34.793854</td>\n",
       "      <td>NaN</td>\n",
       "      <td>NaN</td>\n",
       "      <td>NaN</td>\n",
       "      <td>NaN</td>\n",
       "      <td>NaN</td>\n",
       "      <td>8.769385e+08</td>\n",
       "      <td>NaN</td>\n",
       "    </tr>\n",
       "    <tr>\n",
       "      <th>max</th>\n",
       "      <td>NaN</td>\n",
       "      <td>691.690002</td>\n",
       "      <td>201.910004</td>\n",
       "      <td>NaN</td>\n",
       "      <td>NaN</td>\n",
       "      <td>NaN</td>\n",
       "      <td>NaN</td>\n",
       "      <td>NaN</td>\n",
       "      <td>1.891678e+09</td>\n",
       "      <td>NaN</td>\n",
       "    </tr>\n",
       "  </tbody>\n",
       "</table>\n",
       "</div>"
      ],
      "text/plain": [
       "         Date  Netflix Stock  Disney Stock Netflix Originals Netflix Premium  \\\n",
       "count   20009    5070.000000  13193.000000               639               7   \n",
       "unique  13886            NaN           NaN               624               5   \n",
       "top       TBA            NaN           NaN  Awaiting release          $11.99   \n",
       "freq      218            NaN           NaN                13               3   \n",
       "mean      NaN     116.793248     32.092089               NaN             NaN   \n",
       "std       NaN     168.301799     41.801915               NaN             NaN   \n",
       "min       NaN       0.372857      0.359661               NaN             NaN   \n",
       "25%       NaN       3.964643      1.554251               NaN             NaN   \n",
       "50%       NaN      26.038571     18.168041               NaN             NaN   \n",
       "75%       NaN     161.042496     34.793854               NaN             NaN   \n",
       "max       NaN     691.690002    201.910004               NaN             NaN   \n",
       "\n",
       "       Netflix Standard Netflix Basic    Hulu Originals  Covid-19 Cases  \\\n",
       "count                 8             6               171    7.950000e+02   \n",
       "unique                7             3               168             NaN   \n",
       "top               $7.99         $7.99  Awaiting release             NaN   \n",
       "freq                  2             3                 3             NaN   \n",
       "mean                NaN           NaN               NaN    5.209034e+08   \n",
       "std                 NaN           NaN               NaN    4.912468e+08   \n",
       "min                 NaN           NaN               NaN    0.000000e+00   \n",
       "25%                 NaN           NaN               NaN    5.802148e+07   \n",
       "50%                 NaN           NaN               NaN    4.349659e+08   \n",
       "75%                 NaN           NaN               NaN    8.769385e+08   \n",
       "max                 NaN           NaN               NaN    1.891678e+09   \n",
       "\n",
       "       Disney Launch  \n",
       "count            135  \n",
       "unique           135  \n",
       "top           Canada  \n",
       "freq               1  \n",
       "mean             NaN  \n",
       "std              NaN  \n",
       "min              NaN  \n",
       "25%              NaN  \n",
       "50%              NaN  \n",
       "75%              NaN  \n",
       "max              NaN  "
      ]
     },
     "execution_count": 42,
     "metadata": {},
     "output_type": "execute_result"
    }
   ],
   "source": [
    "#Knowing our DataFrame\n",
    "unifiedDF.info()\n",
    "unifiedDF.describe(datetime_is_numeric=True, include='all')"
   ]
  },
  {
   "cell_type": "code",
   "execution_count": 43,
   "id": "9e55b01f",
   "metadata": {},
   "outputs": [],
   "source": [
    "#Cleaining Originals and Launch column\n",
    "\n",
    "#Deleting sup id from dataframe\n",
    "unifiedDF_updated = unifiedDF.replace(to_replace ='\\[.*\\]', value = '', regex = True)\n",
    "\n",
    "#Change existing value of string to number (exists = 1, does not exist = 0)\n",
    "unifiedDF_updated['Netflix Originals'] = np.where(unifiedDF_updated['Netflix Originals'].notna(), 1,0)\n",
    "unifiedDF_updated['Hulu Originals'] = np.where(unifiedDF_updated['Hulu Originals'].notna(), 1,0)\n",
    "unifiedDF_updated['Disney Launch'] = np.where(unifiedDF_updated['Disney Launch'].notna(), 1,0)"
   ]
  },
  {
   "cell_type": "code",
   "execution_count": 44,
   "id": "127210ba",
   "metadata": {},
   "outputs": [],
   "source": [
    "#Cleaining subscription prices column\n",
    "\n",
    "#Deleting $ from dataframe\n",
    "unifiedDF_updated['Netflix Basic'] = unifiedDF_updated['Netflix Basic'].replace({'\\$':''}, regex = True).astype(float)\n",
    "unifiedDF_updated['Netflix Standard'] = unifiedDF_updated['Netflix Standard'].replace({'\\$':''}, regex = True).astype(float)\n",
    "unifiedDF_updated['Netflix Premium'] = unifiedDF_updated['Netflix Premium'].replace({'\\$':''}, regex = True).astype(float)"
   ]
  },
  {
   "cell_type": "code",
   "execution_count": 45,
   "id": "47813abc",
   "metadata": {},
   "outputs": [],
   "source": [
    "#Cleaning Date column\n",
    "unifiedDF_updated=unifiedDF_updated.groupby(['Date'], dropna=True).first()\n",
    "unifiedDF_updated.reset_index(drop=False, inplace=True)\n",
    "unifiedDF_updated['Date']=pd.to_datetime(unifiedDF_updated['Date'], dayfirst=True, errors='coerce')\n",
    "unifiedDF_updated=unifiedDF_updated.dropna(subset=['Date'])\n",
    "unifiedDF_updated.sort_values(by=['Date'], inplace=True)\n",
    "\n",
    "#Delete columns where the date has not yet arrived (Netflix stock data is not available)\n",
    "unifiedDF_updated=unifiedDF_updated[unifiedDF_updated['Date'] <= pd.to_datetime('today')]\n",
    "unifiedDF_updated=unifiedDF_updated[unifiedDF_updated['Date'] >= pd.to_datetime('2002-05-23')]"
   ]
  },
  {
   "cell_type": "code",
   "execution_count": 46,
   "id": "e62e8969",
   "metadata": {},
   "outputs": [
    {
     "data": {
      "text/html": [
       "<div>\n",
       "<style scoped>\n",
       "    .dataframe tbody tr th:only-of-type {\n",
       "        vertical-align: middle;\n",
       "    }\n",
       "\n",
       "    .dataframe tbody tr th {\n",
       "        vertical-align: top;\n",
       "    }\n",
       "\n",
       "    .dataframe thead th {\n",
       "        text-align: right;\n",
       "    }\n",
       "</style>\n",
       "<table border=\"1\" class=\"dataframe\">\n",
       "  <thead>\n",
       "    <tr style=\"text-align: right;\">\n",
       "      <th></th>\n",
       "      <th>Date</th>\n",
       "      <th>Netflix Stock</th>\n",
       "      <th>Disney Stock</th>\n",
       "      <th>Netflix Originals</th>\n",
       "      <th>Netflix Premium</th>\n",
       "      <th>Netflix Standard</th>\n",
       "      <th>Netflix Basic</th>\n",
       "      <th>Hulu Originals</th>\n",
       "      <th>Covid-19 Cases</th>\n",
       "      <th>Disney Launch</th>\n",
       "    </tr>\n",
       "  </thead>\n",
       "  <tbody>\n",
       "    <tr>\n",
       "      <th>count</th>\n",
       "      <td>5652</td>\n",
       "      <td>5070.000000</td>\n",
       "      <td>5070.000000</td>\n",
       "      <td>5652.000000</td>\n",
       "      <td>7.000000</td>\n",
       "      <td>8.000000</td>\n",
       "      <td>6.000000</td>\n",
       "      <td>5652.000000</td>\n",
       "      <td>7.950000e+02</td>\n",
       "      <td>5652.000000</td>\n",
       "    </tr>\n",
       "    <tr>\n",
       "      <th>mean</th>\n",
       "      <td>2013-04-23 13:50:19.108280320</td>\n",
       "      <td>116.793248</td>\n",
       "      <td>68.692733</td>\n",
       "      <td>0.039809</td>\n",
       "      <td>14.847143</td>\n",
       "      <td>11.052500</td>\n",
       "      <td>8.656667</td>\n",
       "      <td>0.015393</td>\n",
       "      <td>5.209034e+08</td>\n",
       "      <td>0.002654</td>\n",
       "    </tr>\n",
       "    <tr>\n",
       "      <th>min</th>\n",
       "      <td>2002-05-23 00:00:00</td>\n",
       "      <td>0.372857</td>\n",
       "      <td>13.584105</td>\n",
       "      <td>0.000000</td>\n",
       "      <td>11.990000</td>\n",
       "      <td>7.990000</td>\n",
       "      <td>7.990000</td>\n",
       "      <td>0.000000</td>\n",
       "      <td>0.000000e+00</td>\n",
       "      <td>0.000000</td>\n",
       "    </tr>\n",
       "    <tr>\n",
       "      <th>25%</th>\n",
       "      <td>2008-01-02 18:00:00</td>\n",
       "      <td>3.964643</td>\n",
       "      <td>28.678166</td>\n",
       "      <td>0.000000</td>\n",
       "      <td>11.990000</td>\n",
       "      <td>8.740000</td>\n",
       "      <td>7.990000</td>\n",
       "      <td>0.000000</td>\n",
       "      <td>5.802148e+07</td>\n",
       "      <td>0.000000</td>\n",
       "    </tr>\n",
       "    <tr>\n",
       "      <th>50%</th>\n",
       "      <td>2013-08-01 12:00:00</td>\n",
       "      <td>26.038571</td>\n",
       "      <td>46.880001</td>\n",
       "      <td>0.000000</td>\n",
       "      <td>13.990000</td>\n",
       "      <td>10.490000</td>\n",
       "      <td>8.490000</td>\n",
       "      <td>0.000000</td>\n",
       "      <td>4.349659e+08</td>\n",
       "      <td>0.000000</td>\n",
       "    </tr>\n",
       "    <tr>\n",
       "      <th>75%</th>\n",
       "      <td>2019-01-03 06:00:00</td>\n",
       "      <td>161.042496</td>\n",
       "      <td>106.075001</td>\n",
       "      <td>0.000000</td>\n",
       "      <td>16.990000</td>\n",
       "      <td>13.240000</td>\n",
       "      <td>8.990000</td>\n",
       "      <td>0.000000</td>\n",
       "      <td>8.769385e+08</td>\n",
       "      <td>0.000000</td>\n",
       "    </tr>\n",
       "    <tr>\n",
       "      <th>max</th>\n",
       "      <td>2022-07-13 00:00:00</td>\n",
       "      <td>691.690002</td>\n",
       "      <td>201.910004</td>\n",
       "      <td>1.000000</td>\n",
       "      <td>19.990000</td>\n",
       "      <td>15.490000</td>\n",
       "      <td>9.990000</td>\n",
       "      <td>1.000000</td>\n",
       "      <td>1.891678e+09</td>\n",
       "      <td>1.000000</td>\n",
       "    </tr>\n",
       "    <tr>\n",
       "      <th>std</th>\n",
       "      <td>NaN</td>\n",
       "      <td>168.301799</td>\n",
       "      <td>46.693770</td>\n",
       "      <td>0.195527</td>\n",
       "      <td>3.236694</td>\n",
       "      <td>2.833946</td>\n",
       "      <td>0.816497</td>\n",
       "      <td>0.123120</td>\n",
       "      <td>4.912468e+08</td>\n",
       "      <td>0.051452</td>\n",
       "    </tr>\n",
       "  </tbody>\n",
       "</table>\n",
       "</div>"
      ],
      "text/plain": [
       "                                Date  Netflix Stock  Disney Stock  \\\n",
       "count                           5652    5070.000000   5070.000000   \n",
       "mean   2013-04-23 13:50:19.108280320     116.793248     68.692733   \n",
       "min              2002-05-23 00:00:00       0.372857     13.584105   \n",
       "25%              2008-01-02 18:00:00       3.964643     28.678166   \n",
       "50%              2013-08-01 12:00:00      26.038571     46.880001   \n",
       "75%              2019-01-03 06:00:00     161.042496    106.075001   \n",
       "max              2022-07-13 00:00:00     691.690002    201.910004   \n",
       "std                              NaN     168.301799     46.693770   \n",
       "\n",
       "       Netflix Originals  Netflix Premium  Netflix Standard  Netflix Basic  \\\n",
       "count        5652.000000         7.000000          8.000000       6.000000   \n",
       "mean            0.039809        14.847143         11.052500       8.656667   \n",
       "min             0.000000        11.990000          7.990000       7.990000   \n",
       "25%             0.000000        11.990000          8.740000       7.990000   \n",
       "50%             0.000000        13.990000         10.490000       8.490000   \n",
       "75%             0.000000        16.990000         13.240000       8.990000   \n",
       "max             1.000000        19.990000         15.490000       9.990000   \n",
       "std             0.195527         3.236694          2.833946       0.816497   \n",
       "\n",
       "       Hulu Originals  Covid-19 Cases  Disney Launch  \n",
       "count     5652.000000    7.950000e+02    5652.000000  \n",
       "mean         0.015393    5.209034e+08       0.002654  \n",
       "min          0.000000    0.000000e+00       0.000000  \n",
       "25%          0.000000    5.802148e+07       0.000000  \n",
       "50%          0.000000    4.349659e+08       0.000000  \n",
       "75%          0.000000    8.769385e+08       0.000000  \n",
       "max          1.000000    1.891678e+09       1.000000  \n",
       "std          0.123120    4.912468e+08       0.051452  "
      ]
     },
     "execution_count": 46,
     "metadata": {},
     "output_type": "execute_result"
    }
   ],
   "source": [
    "unifiedDF_updated.describe(datetime_is_numeric=True, include='all')"
   ]
  },
  {
   "cell_type": "code",
   "execution_count": 47,
   "id": "676e33ad",
   "metadata": {},
   "outputs": [
    {
     "data": {
      "image/png": "[encoded data removed]",
      "text/plain": [
       "<Figure size 432x288 with 1 Axes>"
      ]
     },
     "metadata": {
      "needs_background": "light"
     },
     "output_type": "display_data"
    },
    {
     "data": {
      "image/png": "[encoded data removed]",
      "text/plain": [
       "<Figure size 432x288 with 1 Axes>"
      ]
     },
     "metadata": {
      "needs_background": "light"
     },
     "output_type": "display_data"
    },
    {
     "data": {
      "image/png": "[encoded data removed]",
      "text/plain": [
       "<Figure size 432x288 with 1 Axes>"
      ]
     },
     "metadata": {
      "needs_background": "light"
     },
     "output_type": "display_data"
    },
    {
     "data": {
      "image/png": "[encoded data removed]",
      "text/plain": [
       "<Figure size 432x288 with 1 Axes>"
      ]
     },
     "metadata": {
      "needs_background": "light"
     },
     "output_type": "display_data"
    },
    {
     "data": {
      "image/png": "[encoded data removed]",
      "text/plain": [
       "<Figure size 432x288 with 1 Axes>"
      ]
     },
     "metadata": {
      "needs_background": "light"
     },
     "output_type": "display_data"
    },
    {
     "data": {
      "image/png": "[encoded data removed]",
      "text/plain": [
       "<Figure size 432x288 with 1 Axes>"
      ]
     },
     "metadata": {
      "needs_background": "light"
     },
     "output_type": "display_data"
    },
    {
     "data": {
      "image/png": "[encoded data removed]",
      "text/plain": [
       "<Figure size 432x288 with 1 Axes>"
      ]
     },
     "metadata": {
      "needs_background": "light"
     },
     "output_type": "display_data"
    },
    {
     "data": {
      "image/png": "[encoded data removed]",
      "text/plain": [
       "<Figure size 432x288 with 1 Axes>"
      ]
     },
     "metadata": {
      "needs_background": "light"
     },
     "output_type": "display_data"
    },
    {
     "data": {
      "image/png": "[encoded data removed]",
      "text/plain": [
       "<Figure size 432x288 with 1 Axes>"
      ]
     },
     "metadata": {
      "needs_background": "light"
     },
     "output_type": "display_data"
    }
   ],
   "source": [
    "sns.boxplot(x=unifiedDF_updated['Netflix Stock'])\n",
    "plt.show()\n",
    "sns.boxplot(x=unifiedDF_updated['Disney Stock'])\n",
    "plt.show()\n",
    "sns.boxplot(x=unifiedDF_updated['Netflix Originals'])\n",
    "plt.show()\n",
    "sns.boxplot(x=unifiedDF_updated['Hulu Originals'])\n",
    "plt.show()\n",
    "sns.boxplot(x=unifiedDF_updated['Netflix Premium'])\n",
    "plt.show()\n",
    "sns.boxplot(x=unifiedDF_updated['Netflix Standard'])\n",
    "plt.show()\n",
    "sns.boxplot(x=unifiedDF_updated['Netflix Basic'])\n",
    "plt.show()\n",
    "sns.boxplot(x=unifiedDF_updated['Covid-19 Cases'])\n",
    "plt.show()\n",
    "sns.boxplot(x=unifiedDF_updated['Disney Launch'])\n",
    "plt.show()"
   ]
  },
  {
   "cell_type": "code",
   "execution_count": 50,
   "id": "725ba3f2",
   "metadata": {},
   "outputs": [],
   "source": [
    "#Filling in missing values based on past and future data\n",
    "unifiedDF_updated[['Disney Stock']] = unifiedDF_updated[['Disney Stock']].fillna(method='ffill')\n",
    "unifiedDF_updated[['Netflix Stock']] = unifiedDF_updated[['Netflix Stock']].fillna(method='ffill')\n",
    "unifiedDF_updated[['Netflix Premium','Netflix Standard','Netflix Basic','Covid-19 Cases']] = unifiedDF_updated[['Netflix Premium','Netflix Standard','Netflix Basic','Covid-19 Cases']].fillna(method='ffill')\n",
    "unifiedDF_updated[['Netflix Premium','Netflix Standard','Netflix Basic']] = unifiedDF_updated[['Netflix Premium','Netflix Standard','Netflix Basic']].fillna(method='bfill')\n",
    "\n",
    "#Convert NaN of Covid-19 Cases to 0\n",
    "unifiedDF_updated['Covid-19 Cases'] = unifiedDF_updated['Covid-19 Cases'].replace(np.nan, 0)"
   ]
  },
  {
   "cell_type": "code",
   "execution_count": 51,
   "id": "8f78a1bf",
   "metadata": {},
   "outputs": [
    {
     "data": {
      "text/html": [
       "<div>\n",
       "<style scoped>\n",
       "    .dataframe tbody tr th:only-of-type {\n",
       "        vertical-align: middle;\n",
       "    }\n",
       "\n",
       "    .dataframe tbody tr th {\n",
       "        vertical-align: top;\n",
       "    }\n",
       "\n",
       "    .dataframe thead th {\n",
       "        text-align: right;\n",
       "    }\n",
       "</style>\n",
       "<table border=\"1\" class=\"dataframe\">\n",
       "  <thead>\n",
       "    <tr style=\"text-align: right;\">\n",
       "      <th></th>\n",
       "      <th>Date</th>\n",
       "      <th>Netflix Stock</th>\n",
       "      <th>Disney Stock</th>\n",
       "      <th>Netflix Originals</th>\n",
       "      <th>Netflix Premium</th>\n",
       "      <th>Netflix Standard</th>\n",
       "      <th>Netflix Basic</th>\n",
       "      <th>Hulu Originals</th>\n",
       "      <th>Covid-19 Cases</th>\n",
       "      <th>Disney Launch</th>\n",
       "    </tr>\n",
       "  </thead>\n",
       "  <tbody>\n",
       "    <tr>\n",
       "      <th>count</th>\n",
       "      <td>5652</td>\n",
       "      <td>5652.000000</td>\n",
       "      <td>5652.000000</td>\n",
       "      <td>5652.000000</td>\n",
       "      <td>5652.000000</td>\n",
       "      <td>5652.000000</td>\n",
       "      <td>5652.000000</td>\n",
       "      <td>5652.000000</td>\n",
       "      <td>5.652000e+03</td>\n",
       "      <td>5652.000000</td>\n",
       "    </tr>\n",
       "    <tr>\n",
       "      <th>mean</th>\n",
       "      <td>2013-04-23 13:50:19.108280320</td>\n",
       "      <td>149.529485</td>\n",
       "      <td>76.115927</td>\n",
       "      <td>10982.150920</td>\n",
       "      <td>13.481861</td>\n",
       "      <td>9.879331</td>\n",
       "      <td>8.283171</td>\n",
       "      <td>20135.805379</td>\n",
       "      <td>1.455073e+08</td>\n",
       "      <td>950.703645</td>\n",
       "    </tr>\n",
       "    <tr>\n",
       "      <th>min</th>\n",
       "      <td>2002-05-23 00:00:00</td>\n",
       "      <td>0.372857</td>\n",
       "      <td>13.584105</td>\n",
       "      <td>0.000000</td>\n",
       "      <td>11.990000</td>\n",
       "      <td>7.990000</td>\n",
       "      <td>7.990000</td>\n",
       "      <td>0.000000</td>\n",
       "      <td>0.000000e+00</td>\n",
       "      <td>0.000000</td>\n",
       "    </tr>\n",
       "    <tr>\n",
       "      <th>25%</th>\n",
       "      <td>2008-01-02 18:00:00</td>\n",
       "      <td>4.221429</td>\n",
       "      <td>30.117846</td>\n",
       "      <td>0.000000</td>\n",
       "      <td>11.990000</td>\n",
       "      <td>7.990000</td>\n",
       "      <td>7.990000</td>\n",
       "      <td>0.000000</td>\n",
       "      <td>0.000000e+00</td>\n",
       "      <td>0.000000</td>\n",
       "    </tr>\n",
       "    <tr>\n",
       "      <th>50%</th>\n",
       "      <td>2013-08-01 12:00:00</td>\n",
       "      <td>39.070713</td>\n",
       "      <td>64.775002</td>\n",
       "      <td>0.000000</td>\n",
       "      <td>11.990000</td>\n",
       "      <td>7.990000</td>\n",
       "      <td>7.990000</td>\n",
       "      <td>1435.000000</td>\n",
       "      <td>0.000000e+00</td>\n",
       "      <td>0.000000</td>\n",
       "    </tr>\n",
       "    <tr>\n",
       "      <th>75%</th>\n",
       "      <td>2019-01-03 06:00:00</td>\n",
       "      <td>300.044991</td>\n",
       "      <td>111.760002</td>\n",
       "      <td>4300.500000</td>\n",
       "      <td>15.990000</td>\n",
       "      <td>12.990000</td>\n",
       "      <td>8.990000</td>\n",
       "      <td>29440.000000</td>\n",
       "      <td>0.000000e+00</td>\n",
       "      <td>0.000000</td>\n",
       "    </tr>\n",
       "    <tr>\n",
       "      <th>max</th>\n",
       "      <td>2022-07-13 00:00:00</td>\n",
       "      <td>691.690002</td>\n",
       "      <td>201.910004</td>\n",
       "      <td>125350.000000</td>\n",
       "      <td>19.990000</td>\n",
       "      <td>15.490000</td>\n",
       "      <td>9.990000</td>\n",
       "      <td>118689.000000</td>\n",
       "      <td>1.891678e+09</td>\n",
       "      <td>11764.000000</td>\n",
       "    </tr>\n",
       "    <tr>\n",
       "      <th>std</th>\n",
       "      <td>NaN</td>\n",
       "      <td>192.600585</td>\n",
       "      <td>50.381203</td>\n",
       "      <td>25057.449548</td>\n",
       "      <td>2.464565</td>\n",
       "      <td>2.469779</td>\n",
       "      <td>0.540882</td>\n",
       "      <td>31327.263211</td>\n",
       "      <td>4.126622e+08</td>\n",
       "      <td>2483.924499</td>\n",
       "    </tr>\n",
       "  </tbody>\n",
       "</table>\n",
       "</div>"
      ],
      "text/plain": [
       "                                Date  Netflix Stock  Disney Stock  \\\n",
       "count                           5652    5652.000000   5652.000000   \n",
       "mean   2013-04-23 13:50:19.108280320     149.529485     76.115927   \n",
       "min              2002-05-23 00:00:00       0.372857     13.584105   \n",
       "25%              2008-01-02 18:00:00       4.221429     30.117846   \n",
       "50%              2013-08-01 12:00:00      39.070713     64.775002   \n",
       "75%              2019-01-03 06:00:00     300.044991    111.760002   \n",
       "max              2022-07-13 00:00:00     691.690002    201.910004   \n",
       "std                              NaN     192.600585     50.381203   \n",
       "\n",
       "       Netflix Originals  Netflix Premium  Netflix Standard  Netflix Basic  \\\n",
       "count        5652.000000      5652.000000       5652.000000    5652.000000   \n",
       "mean        10982.150920        13.481861          9.879331       8.283171   \n",
       "min             0.000000        11.990000          7.990000       7.990000   \n",
       "25%             0.000000        11.990000          7.990000       7.990000   \n",
       "50%             0.000000        11.990000          7.990000       7.990000   \n",
       "75%          4300.500000        15.990000         12.990000       8.990000   \n",
       "max        125350.000000        19.990000         15.490000       9.990000   \n",
       "std         25057.449548         2.464565          2.469779       0.540882   \n",
       "\n",
       "       Hulu Originals  Covid-19 Cases  Disney Launch  \n",
       "count     5652.000000    5.652000e+03    5652.000000  \n",
       "mean     20135.805379    1.455073e+08     950.703645  \n",
       "min          0.000000    0.000000e+00       0.000000  \n",
       "25%          0.000000    0.000000e+00       0.000000  \n",
       "50%       1435.000000    0.000000e+00       0.000000  \n",
       "75%      29440.000000    0.000000e+00       0.000000  \n",
       "max     118689.000000    1.891678e+09   11764.000000  \n",
       "std      31327.263211    4.126622e+08    2483.924499  "
      ]
     },
     "execution_count": 51,
     "metadata": {},
     "output_type": "execute_result"
    }
   ],
   "source": [
    "#Adding values for Originals and Launch\n",
    "unifiedDF_updated['Netflix Originals'] = unifiedDF_updated['Netflix Originals'].rolling(len(unifiedDF_updated.index), min_periods=1).sum()\n",
    "unifiedDF_updated['Hulu Originals'] = unifiedDF_updated['Hulu Originals'].rolling(len(unifiedDF_updated.index), min_periods=1).sum()\n",
    "unifiedDF_updated['Disney Launch'] = unifiedDF_updated['Disney Launch'].rolling(len(unifiedDF_updated.index), min_periods=1).sum()\n",
    "\n",
    "unifiedDF_updated.describe(datetime_is_numeric=True, include='all')"
   ]
  },
  {
   "cell_type": "code",
   "execution_count": 52,
   "id": "0b5613fb",
   "metadata": {},
   "outputs": [
    {
     "data": {
      "image/png": "[encoded data removed]",
      "text/plain": [
       "<Figure size 432x288 with 1 Axes>"
      ]
     },
     "metadata": {
      "needs_background": "light"
     },
     "output_type": "display_data"
    },
    {
     "data": {
      "image/png": "[encoded data removed]",
      "text/plain": [
       "<Figure size 432x288 with 1 Axes>"
      ]
     },
     "metadata": {
      "needs_background": "light"
     },
     "output_type": "display_data"
    },
    {
     "data": {
      "image/png": "[encoded data removed]",
      "text/plain": [
       "<Figure size 432x288 with 1 Axes>"
      ]
     },
     "metadata": {
      "needs_background": "light"
     },
     "output_type": "display_data"
    },
    {
     "data": {
      "image/png": "[encoded data removed]",
      "text/plain": [
       "<Figure size 432x288 with 1 Axes>"
      ]
     },
     "metadata": {
      "needs_background": "light"
     },
     "output_type": "display_data"
    },
    {
     "data": {
      "image/png": "[encoded data removed]",
      "text/plain": [
       "<Figure size 432x288 with 1 Axes>"
      ]
     },
     "metadata": {
      "needs_background": "light"
     },
     "output_type": "display_data"
    },
    {
     "data": {
      "image/png": "[encoded data removed]",
      "text/plain": [
       "<Figure size 432x288 with 1 Axes>"
      ]
     },
     "metadata": {
      "needs_background": "light"
     },
     "output_type": "display_data"
    },
    {
     "data": {
      "image/png": "[encoded data removed]",
      "text/plain": [
       "<Figure size 432x288 with 1 Axes>"
      ]
     },
     "metadata": {
      "needs_background": "light"
     },
     "output_type": "display_data"
    },
    {
     "data": {
      "image/png": "[encoded data removed]",
      "text/plain": [
       "<Figure size 432x288 with 1 Axes>"
      ]
     },
     "metadata": {
      "needs_background": "light"
     },
     "output_type": "display_data"
    },
    {
     "data": {
      "image/png": "[encoded data removed]",
      "text/plain": [
       "<Figure size 432x288 with 1 Axes>"
      ]
     },
     "metadata": {
      "needs_background": "light"
     },
     "output_type": "display_data"
    }
   ],
   "source": [
    "sns.boxplot(x=unifiedDF_updated['Netflix Stock'])\n",
    "plt.show()\n",
    "sns.boxplot(x=unifiedDF_updated['Disney Stock'])\n",
    "plt.show()\n",
    "sns.boxplot(x=unifiedDF_updated['Netflix Originals'])\n",
    "plt.show()\n",
    "sns.boxplot(x=unifiedDF_updated['Hulu Originals'])\n",
    "plt.show()\n",
    "sns.boxplot(x=unifiedDF_updated['Netflix Premium'])\n",
    "plt.show()\n",
    "sns.boxplot(x=unifiedDF_updated['Netflix Standard'])\n",
    "plt.show()\n",
    "sns.boxplot(x=unifiedDF_updated['Netflix Basic'])\n",
    "plt.show()\n",
    "sns.boxplot(x=unifiedDF_updated['Covid-19 Cases'])\n",
    "plt.show()\n",
    "sns.boxplot(x=unifiedDF_updated['Disney Launch'])\n",
    "plt.show()"
   ]
  },
  {
   "cell_type": "code",
   "execution_count": 53,
   "id": "9c2254e7",
   "metadata": {},
   "outputs": [
    {
     "data": {
      "text/html": [
       "<div>\n",
       "<style scoped>\n",
       "    .dataframe tbody tr th:only-of-type {\n",
       "        vertical-align: middle;\n",
       "    }\n",
       "\n",
       "    .dataframe tbody tr th {\n",
       "        vertical-align: top;\n",
       "    }\n",
       "\n",
       "    .dataframe thead th {\n",
       "        text-align: right;\n",
       "    }\n",
       "</style>\n",
       "<table border=\"1\" class=\"dataframe\">\n",
       "  <thead>\n",
       "    <tr style=\"text-align: right;\">\n",
       "      <th></th>\n",
       "      <th>Date</th>\n",
       "      <th>Netflix Stock</th>\n",
       "      <th>Disney Stock</th>\n",
       "      <th>Netflix Originals</th>\n",
       "      <th>Netflix Premium</th>\n",
       "      <th>Netflix Standard</th>\n",
       "      <th>Netflix Basic</th>\n",
       "      <th>Hulu Originals</th>\n",
       "      <th>Covid-19 Cases</th>\n",
       "      <th>Disney Launch</th>\n",
       "    </tr>\n",
       "  </thead>\n",
       "  <tbody>\n",
       "    <tr>\n",
       "      <th>8123</th>\n",
       "      <td>0.000000</td>\n",
       "      <td>0.001191</td>\n",
       "      <td>0.052697</td>\n",
       "      <td>0.0</td>\n",
       "      <td>0.0</td>\n",
       "      <td>0.0</td>\n",
       "      <td>0.0</td>\n",
       "      <td>0.0</td>\n",
       "      <td>0.0</td>\n",
       "      <td>0.0</td>\n",
       "    </tr>\n",
       "    <tr>\n",
       "      <th>8124</th>\n",
       "      <td>0.000136</td>\n",
       "      <td>0.001211</td>\n",
       "      <td>0.051283</td>\n",
       "      <td>0.0</td>\n",
       "      <td>0.0</td>\n",
       "      <td>0.0</td>\n",
       "      <td>0.0</td>\n",
       "      <td>0.0</td>\n",
       "      <td>0.0</td>\n",
       "      <td>0.0</td>\n",
       "    </tr>\n",
       "    <tr>\n",
       "      <th>8125</th>\n",
       "      <td>0.000680</td>\n",
       "      <td>0.001134</td>\n",
       "      <td>0.051178</td>\n",
       "      <td>0.0</td>\n",
       "      <td>0.0</td>\n",
       "      <td>0.0</td>\n",
       "      <td>0.0</td>\n",
       "      <td>0.0</td>\n",
       "      <td>0.0</td>\n",
       "      <td>0.0</td>\n",
       "    </tr>\n",
       "    <tr>\n",
       "      <th>8126</th>\n",
       "      <td>0.000816</td>\n",
       "      <td>0.001057</td>\n",
       "      <td>0.048611</td>\n",
       "      <td>0.0</td>\n",
       "      <td>0.0</td>\n",
       "      <td>0.0</td>\n",
       "      <td>0.0</td>\n",
       "      <td>0.0</td>\n",
       "      <td>0.0</td>\n",
       "      <td>0.0</td>\n",
       "    </tr>\n",
       "    <tr>\n",
       "      <th>8127</th>\n",
       "      <td>0.000952</td>\n",
       "      <td>0.00101</td>\n",
       "      <td>0.049554</td>\n",
       "      <td>0.0</td>\n",
       "      <td>0.0</td>\n",
       "      <td>0.0</td>\n",
       "      <td>0.0</td>\n",
       "      <td>0.0</td>\n",
       "      <td>0.0</td>\n",
       "      <td>0.0</td>\n",
       "    </tr>\n",
       "    <tr>\n",
       "      <th>...</th>\n",
       "      <td>...</td>\n",
       "      <td>...</td>\n",
       "      <td>...</td>\n",
       "      <td>...</td>\n",
       "      <td>...</td>\n",
       "      <td>...</td>\n",
       "      <td>...</td>\n",
       "      <td>...</td>\n",
       "      <td>...</td>\n",
       "      <td>...</td>\n",
       "    </tr>\n",
       "    <tr>\n",
       "      <th>13446</th>\n",
       "      <td>0.999320</td>\n",
       "      <td>0.26993</td>\n",
       "      <td>0.43688</td>\n",
       "      <td>0.992836</td>\n",
       "      <td>1.0</td>\n",
       "      <td>1.0</td>\n",
       "      <td>1.0</td>\n",
       "      <td>0.997068</td>\n",
       "      <td>1.0</td>\n",
       "      <td>0.9949</td>\n",
       "    </tr>\n",
       "    <tr>\n",
       "      <th>13447</th>\n",
       "      <td>0.999728</td>\n",
       "      <td>0.255985</td>\n",
       "      <td>0.425092</td>\n",
       "      <td>0.994623</td>\n",
       "      <td>1.0</td>\n",
       "      <td>1.0</td>\n",
       "      <td>1.0</td>\n",
       "      <td>0.997801</td>\n",
       "      <td>1.0</td>\n",
       "      <td>0.996175</td>\n",
       "    </tr>\n",
       "    <tr>\n",
       "      <th>13448</th>\n",
       "      <td>0.999864</td>\n",
       "      <td>0.251805</td>\n",
       "      <td>0.42488</td>\n",
       "      <td>0.99641</td>\n",
       "      <td>1.0</td>\n",
       "      <td>1.0</td>\n",
       "      <td>1.0</td>\n",
       "      <td>0.998534</td>\n",
       "      <td>1.0</td>\n",
       "      <td>0.99745</td>\n",
       "    </tr>\n",
       "    <tr>\n",
       "      <th>13606</th>\n",
       "      <td>1.000000</td>\n",
       "      <td>0.251805</td>\n",
       "      <td>0.42488</td>\n",
       "      <td>0.998205</td>\n",
       "      <td>1.0</td>\n",
       "      <td>1.0</td>\n",
       "      <td>1.0</td>\n",
       "      <td>0.999267</td>\n",
       "      <td>1.0</td>\n",
       "      <td>0.998725</td>\n",
       "    </tr>\n",
       "    <tr>\n",
       "      <th>13449</th>\n",
       "      <td>1.000000</td>\n",
       "      <td>0.250069</td>\n",
       "      <td>0.420951</td>\n",
       "      <td>1.0</td>\n",
       "      <td>1.0</td>\n",
       "      <td>1.0</td>\n",
       "      <td>1.0</td>\n",
       "      <td>1.0</td>\n",
       "      <td>1.0</td>\n",
       "      <td>1.0</td>\n",
       "    </tr>\n",
       "  </tbody>\n",
       "</table>\n",
       "<p>5652 rows × 10 columns</p>\n",
       "</div>"
      ],
      "text/plain": [
       "           Date Netflix Stock Disney Stock Netflix Originals Netflix Premium  \\\n",
       "8123   0.000000      0.001191     0.052697               0.0             0.0   \n",
       "8124   0.000136      0.001211     0.051283               0.0             0.0   \n",
       "8125   0.000680      0.001134     0.051178               0.0             0.0   \n",
       "8126   0.000816      0.001057     0.048611               0.0             0.0   \n",
       "8127   0.000952       0.00101     0.049554               0.0             0.0   \n",
       "...         ...           ...          ...               ...             ...   \n",
       "13446  0.999320       0.26993      0.43688          0.992836             1.0   \n",
       "13447  0.999728      0.255985     0.425092          0.994623             1.0   \n",
       "13448  0.999864      0.251805      0.42488           0.99641             1.0   \n",
       "13606  1.000000      0.251805      0.42488          0.998205             1.0   \n",
       "13449  1.000000      0.250069     0.420951               1.0             1.0   \n",
       "\n",
       "      Netflix Standard Netflix Basic Hulu Originals Covid-19 Cases  \\\n",
       "8123               0.0           0.0            0.0            0.0   \n",
       "8124               0.0           0.0            0.0            0.0   \n",
       "8125               0.0           0.0            0.0            0.0   \n",
       "8126               0.0           0.0            0.0            0.0   \n",
       "8127               0.0           0.0            0.0            0.0   \n",
       "...                ...           ...            ...            ...   \n",
       "13446              1.0           1.0       0.997068            1.0   \n",
       "13447              1.0           1.0       0.997801            1.0   \n",
       "13448              1.0           1.0       0.998534            1.0   \n",
       "13606              1.0           1.0       0.999267            1.0   \n",
       "13449              1.0           1.0            1.0            1.0   \n",
       "\n",
       "      Disney Launch  \n",
       "8123            0.0  \n",
       "8124            0.0  \n",
       "8125            0.0  \n",
       "8126            0.0  \n",
       "8127            0.0  \n",
       "...             ...  \n",
       "13446        0.9949  \n",
       "13447      0.996175  \n",
       "13448       0.99745  \n",
       "13606      0.998725  \n",
       "13449           1.0  \n",
       "\n",
       "[5652 rows x 10 columns]"
      ]
     },
     "execution_count": 53,
     "metadata": {},
     "output_type": "execute_result"
    }
   ],
   "source": [
    "#Saving the dataframe\n",
    "unifiedDF_updated.to_csv('data/unifiedDF_updated.csv')\n",
    "\n",
    "#Normalized thr data frame\n",
    "normalized_df=(unifiedDF_updated-unifiedDF_updated.min())/(unifiedDF_updated.max()-unifiedDF_updated.min())\n",
    "normalized_df"
   ]
  },
  {
   "cell_type": "code",
   "execution_count": 55,
   "id": "f9ae6569",
   "metadata": {},
   "outputs": [
    {
     "data": {
      "text/html": [
       "<div>\n",
       "<style scoped>\n",
       "    .dataframe tbody tr th:only-of-type {\n",
       "        vertical-align: middle;\n",
       "    }\n",
       "\n",
       "    .dataframe tbody tr th {\n",
       "        vertical-align: top;\n",
       "    }\n",
       "\n",
       "    .dataframe thead th {\n",
       "        text-align: right;\n",
       "    }\n",
       "</style>\n",
       "<table border=\"1\" class=\"dataframe\">\n",
       "  <thead>\n",
       "    <tr style=\"text-align: right;\">\n",
       "      <th></th>\n",
       "      <th>Date</th>\n",
       "      <th>Netflix Stock</th>\n",
       "      <th>Disney Stock</th>\n",
       "      <th>Netflix Originals</th>\n",
       "      <th>Netflix Premium</th>\n",
       "      <th>Netflix Standard</th>\n",
       "      <th>Netflix Basic</th>\n",
       "      <th>Hulu Originals</th>\n",
       "      <th>Covid-19 Cases</th>\n",
       "      <th>Disney Launch</th>\n",
       "    </tr>\n",
       "  </thead>\n",
       "  <tbody>\n",
       "    <tr>\n",
       "      <th>count</th>\n",
       "      <td>5652.000000</td>\n",
       "      <td>5652.000000</td>\n",
       "      <td>5652.000000</td>\n",
       "      <td>5652.0</td>\n",
       "      <td>5652.0</td>\n",
       "      <td>5652.0</td>\n",
       "      <td>5652.0</td>\n",
       "      <td>5652.0</td>\n",
       "      <td>5652.0</td>\n",
       "      <td>5652.0</td>\n",
       "    </tr>\n",
       "    <tr>\n",
       "      <th>unique</th>\n",
       "      <td>NaN</td>\n",
       "      <td>4601.000000</td>\n",
       "      <td>4013.000000</td>\n",
       "      <td>2384.0</td>\n",
       "      <td>5.0</td>\n",
       "      <td>7.0</td>\n",
       "      <td>3.0</td>\n",
       "      <td>3296.0</td>\n",
       "      <td>775.0</td>\n",
       "      <td>1170.0</td>\n",
       "    </tr>\n",
       "    <tr>\n",
       "      <th>top</th>\n",
       "      <td>NaN</td>\n",
       "      <td>0.870899</td>\n",
       "      <td>0.627454</td>\n",
       "      <td>0.0</td>\n",
       "      <td>0.0</td>\n",
       "      <td>0.0</td>\n",
       "      <td>0.0</td>\n",
       "      <td>0.0</td>\n",
       "      <td>0.0</td>\n",
       "      <td>0.0</td>\n",
       "    </tr>\n",
       "    <tr>\n",
       "      <th>freq</th>\n",
       "      <td>NaN</td>\n",
       "      <td>7.000000</td>\n",
       "      <td>7.000000</td>\n",
       "      <td>3269.0</td>\n",
       "      <td>3901.0</td>\n",
       "      <td>2996.0</td>\n",
       "      <td>4236.0</td>\n",
       "      <td>2357.0</td>\n",
       "      <td>4548.0</td>\n",
       "      <td>4483.0</td>\n",
       "    </tr>\n",
       "    <tr>\n",
       "      <th>mean</th>\n",
       "      <td>0.542221</td>\n",
       "      <td>NaN</td>\n",
       "      <td>NaN</td>\n",
       "      <td>NaN</td>\n",
       "      <td>NaN</td>\n",
       "      <td>NaN</td>\n",
       "      <td>NaN</td>\n",
       "      <td>NaN</td>\n",
       "      <td>NaN</td>\n",
       "      <td>NaN</td>\n",
       "    </tr>\n",
       "    <tr>\n",
       "      <th>std</th>\n",
       "      <td>0.301908</td>\n",
       "      <td>NaN</td>\n",
       "      <td>NaN</td>\n",
       "      <td>NaN</td>\n",
       "      <td>NaN</td>\n",
       "      <td>NaN</td>\n",
       "      <td>NaN</td>\n",
       "      <td>NaN</td>\n",
       "      <td>NaN</td>\n",
       "      <td>NaN</td>\n",
       "    </tr>\n",
       "    <tr>\n",
       "      <th>min</th>\n",
       "      <td>0.000000</td>\n",
       "      <td>NaN</td>\n",
       "      <td>NaN</td>\n",
       "      <td>NaN</td>\n",
       "      <td>NaN</td>\n",
       "      <td>NaN</td>\n",
       "      <td>NaN</td>\n",
       "      <td>NaN</td>\n",
       "      <td>NaN</td>\n",
       "      <td>NaN</td>\n",
       "    </tr>\n",
       "    <tr>\n",
       "      <th>25%</th>\n",
       "      <td>0.278786</td>\n",
       "      <td>NaN</td>\n",
       "      <td>NaN</td>\n",
       "      <td>NaN</td>\n",
       "      <td>NaN</td>\n",
       "      <td>NaN</td>\n",
       "      <td>NaN</td>\n",
       "      <td>NaN</td>\n",
       "      <td>NaN</td>\n",
       "      <td>NaN</td>\n",
       "    </tr>\n",
       "    <tr>\n",
       "      <th>50%</th>\n",
       "      <td>0.555805</td>\n",
       "      <td>NaN</td>\n",
       "      <td>NaN</td>\n",
       "      <td>NaN</td>\n",
       "      <td>NaN</td>\n",
       "      <td>NaN</td>\n",
       "      <td>NaN</td>\n",
       "      <td>NaN</td>\n",
       "      <td>NaN</td>\n",
       "      <td>NaN</td>\n",
       "    </tr>\n",
       "    <tr>\n",
       "      <th>75%</th>\n",
       "      <td>0.825075</td>\n",
       "      <td>NaN</td>\n",
       "      <td>NaN</td>\n",
       "      <td>NaN</td>\n",
       "      <td>NaN</td>\n",
       "      <td>NaN</td>\n",
       "      <td>NaN</td>\n",
       "      <td>NaN</td>\n",
       "      <td>NaN</td>\n",
       "      <td>NaN</td>\n",
       "    </tr>\n",
       "    <tr>\n",
       "      <th>max</th>\n",
       "      <td>1.000000</td>\n",
       "      <td>NaN</td>\n",
       "      <td>NaN</td>\n",
       "      <td>NaN</td>\n",
       "      <td>NaN</td>\n",
       "      <td>NaN</td>\n",
       "      <td>NaN</td>\n",
       "      <td>NaN</td>\n",
       "      <td>NaN</td>\n",
       "      <td>NaN</td>\n",
       "    </tr>\n",
       "  </tbody>\n",
       "</table>\n",
       "</div>"
      ],
      "text/plain": [
       "               Date  Netflix Stock  Disney Stock  Netflix Originals  \\\n",
       "count   5652.000000    5652.000000   5652.000000             5652.0   \n",
       "unique          NaN    4601.000000   4013.000000             2384.0   \n",
       "top             NaN       0.870899      0.627454                0.0   \n",
       "freq            NaN       7.000000      7.000000             3269.0   \n",
       "mean       0.542221            NaN           NaN                NaN   \n",
       "std        0.301908            NaN           NaN                NaN   \n",
       "min        0.000000            NaN           NaN                NaN   \n",
       "25%        0.278786            NaN           NaN                NaN   \n",
       "50%        0.555805            NaN           NaN                NaN   \n",
       "75%        0.825075            NaN           NaN                NaN   \n",
       "max        1.000000            NaN           NaN                NaN   \n",
       "\n",
       "        Netflix Premium  Netflix Standard  Netflix Basic  Hulu Originals  \\\n",
       "count            5652.0            5652.0         5652.0          5652.0   \n",
       "unique              5.0               7.0            3.0          3296.0   \n",
       "top                 0.0               0.0            0.0             0.0   \n",
       "freq             3901.0            2996.0         4236.0          2357.0   \n",
       "mean                NaN               NaN            NaN             NaN   \n",
       "std                 NaN               NaN            NaN             NaN   \n",
       "min                 NaN               NaN            NaN             NaN   \n",
       "25%                 NaN               NaN            NaN             NaN   \n",
       "50%                 NaN               NaN            NaN             NaN   \n",
       "75%                 NaN               NaN            NaN             NaN   \n",
       "max                 NaN               NaN            NaN             NaN   \n",
       "\n",
       "        Covid-19 Cases  Disney Launch  \n",
       "count           5652.0         5652.0  \n",
       "unique           775.0         1170.0  \n",
       "top                0.0            0.0  \n",
       "freq            4548.0         4483.0  \n",
       "mean               NaN            NaN  \n",
       "std                NaN            NaN  \n",
       "min                NaN            NaN  \n",
       "25%                NaN            NaN  \n",
       "50%                NaN            NaN  \n",
       "75%                NaN            NaN  \n",
       "max                NaN            NaN  "
      ]
     },
     "execution_count": 55,
     "metadata": {},
     "output_type": "execute_result"
    }
   ],
   "source": [
    "#Checkcing our DataFrame values\n",
    "normalized_df.describe(datetime_is_numeric=True, include='all')"
   ]
  },
  {
   "cell_type": "code",
   "execution_count": 56,
   "id": "10e0c25c",
   "metadata": {},
   "outputs": [
    {
     "data": {
      "text/plain": [
       "Text(0.5, 0, 'Netflix Stock')"
      ]
     },
     "execution_count": 56,
     "metadata": {},
     "output_type": "execute_result"
    },
    {
     "data": {
      "image/png": "[encoded data removed]",
      "text/plain": [
       "<Figure size 432x288 with 1 Axes>"
      ]
     },
     "metadata": {
      "needs_background": "light"
     },
     "output_type": "display_data"
    }
   ],
   "source": [
    "plt.hist(normalized_df['Netflix Stock'], bins = 20)\n",
    "plt.xlabel('Netflix Stock',fontsize = 12)"
   ]
  },
  {
   "cell_type": "code",
   "execution_count": 57,
   "id": "81c9fdf7",
   "metadata": {},
   "outputs": [
    {
     "data": {
      "text/plain": [
       "Text(0.5, 0, 'Disney Stock')"
      ]
     },
     "execution_count": 57,
     "metadata": {},
     "output_type": "execute_result"
    },
    {
     "data": {
      "image/png": "[encoded data removed]",
      "text/plain": [
       "<Figure size 432x288 with 1 Axes>"
      ]
     },
     "metadata": {
      "needs_background": "light"
     },
     "output_type": "display_data"
    }
   ],
   "source": [
    "plt.hist(normalized_df['Disney Stock'], bins = 20)\n",
    "plt.xlabel('Disney Stock',fontsize = 12)"
   ]
  },
  {
   "cell_type": "code",
   "execution_count": 58,
   "id": "9c1e9471",
   "metadata": {},
   "outputs": [
    {
     "data": {
      "text/plain": [
       "Text(0.5, 0, 'Netflix Premium')"
      ]
     },
     "execution_count": 58,
     "metadata": {},
     "output_type": "execute_result"
    },
    {
     "data": {
      "image/png": "[encoded data removed]",
      "text/plain": [
       "<Figure size 432x288 with 1 Axes>"
      ]
     },
     "metadata": {
      "needs_background": "light"
     },
     "output_type": "display_data"
    }
   ],
   "source": [
    "plt.hist(normalized_df['Netflix Premium'], bins = 20)\n",
    "plt.xlabel('Netflix Premium',fontsize = 12)"
   ]
  },
  {
   "cell_type": "code",
   "execution_count": 59,
   "id": "bc156233",
   "metadata": {},
   "outputs": [
    {
     "data": {
      "text/plain": [
       "Text(0.5, 0, 'Netflix Standard')"
      ]
     },
     "execution_count": 59,
     "metadata": {},
     "output_type": "execute_result"
    },
    {
     "data": {
      "image/png": "[encoded data removed]",
      "text/plain": [
       "<Figure size 432x288 with 1 Axes>"
      ]
     },
     "metadata": {
      "needs_background": "light"
     },
     "output_type": "display_data"
    }
   ],
   "source": [
    "plt.hist(normalized_df['Netflix Standard'], bins = 20)\n",
    "plt.xlabel('Netflix Standard',fontsize = 12)"
   ]
  },
  {
   "cell_type": "code",
   "execution_count": 60,
   "id": "e9ee93f7",
   "metadata": {},
   "outputs": [
    {
     "data": {
      "text/plain": [
       "Text(0.5, 0, 'Netflix Basic')"
      ]
     },
     "execution_count": 60,
     "metadata": {},
     "output_type": "execute_result"
    },
    {
     "data": {
      "image/png": "[encoded data removed]",
      "text/plain": [
       "<Figure size 432x288 with 1 Axes>"
      ]
     },
     "metadata": {
      "needs_background": "light"
     },
     "output_type": "display_data"
    }
   ],
   "source": [
    "plt.hist(normalized_df['Netflix Basic'], bins = 20)\n",
    "plt.xlabel('Netflix Basic',fontsize = 12)"
   ]
  },
  {
   "cell_type": "code",
   "execution_count": 61,
   "id": "35e1879e",
   "metadata": {},
   "outputs": [
    {
     "data": {
      "text/plain": [
       "Text(0.5, 0, 'Covid-19 Cases')"
      ]
     },
     "execution_count": 61,
     "metadata": {},
     "output_type": "execute_result"
    },
    {
     "data": {
      "image/png": "[encoded data removed]",
      "text/plain": [
       "<Figure size 432x288 with 1 Axes>"
      ]
     },
     "metadata": {
      "needs_background": "light"
     },
     "output_type": "display_data"
    }
   ],
   "source": [
    "plt.hist(normalized_df['Covid-19 Cases'], bins = 20)\n",
    "plt.xlabel('Covid-19 Cases',fontsize = 12)"
   ]
  },
  {
   "cell_type": "code",
   "execution_count": 62,
   "id": "69f17cac",
   "metadata": {},
   "outputs": [
    {
     "data": {
      "image/png": "[encoded data removed]",
      "text/plain": [
       "<Figure size 432x288 with 1 Axes>"
      ]
     },
     "metadata": {
      "needs_background": "light"
     },
     "output_type": "display_data"
    },
    {
     "data": {
      "image/png": "[encoded data removed]",
      "text/plain": [
       "<Figure size 432x288 with 1 Axes>"
      ]
     },
     "metadata": {
      "needs_background": "light"
     },
     "output_type": "display_data"
    },
    {
     "data": {
      "image/png": "[encoded data removed]",
      "text/plain": [
       "<Figure size 432x288 with 1 Axes>"
      ]
     },
     "metadata": {
      "needs_background": "light"
     },
     "output_type": "display_data"
    },
    {
     "data": {
      "image/png": "[encoded data removed]",
      "text/plain": [
       "<Figure size 432x288 with 1 Axes>"
      ]
     },
     "metadata": {
      "needs_background": "light"
     },
     "output_type": "display_data"
    },
    {
     "data": {
      "image/png": "[encoded data removed]",
      "text/plain": [
       "<Figure size 432x288 with 1 Axes>"
      ]
     },
     "metadata": {
      "needs_background": "light"
     },
     "output_type": "display_data"
    },
    {
     "data": {
      "image/png": "[encoded data removed]",
      "text/plain": [
       "<Figure size 432x288 with 1 Axes>"
      ]
     },
     "metadata": {
      "needs_background": "light"
     },
     "output_type": "display_data"
    },
    {
     "data": {
      "image/png": "[encoded data removed]",
      "text/plain": [
       "<Figure size 432x288 with 1 Axes>"
      ]
     },
     "metadata": {
      "needs_background": "light"
     },
     "output_type": "display_data"
    },
    {
     "data": {
      "image/png": "[encoded data removed]",
      "text/plain": [
       "<Figure size 432x288 with 1 Axes>"
      ]
     },
     "metadata": {
      "needs_background": "light"
     },
     "output_type": "display_data"
    },
    {
     "data": {
      "image/png": "[encoded data removed]",
      "text/plain": [
       "<Figure size 432x288 with 1 Axes>"
      ]
     },
     "metadata": {
      "needs_background": "light"
     },
     "output_type": "display_data"
    },
    {
     "data": {
      "image/png": "[encoded data removed]",
      "text/plain": [
       "<Figure size 432x288 with 1 Axes>"
      ]
     },
     "metadata": {
      "needs_background": "light"
     },
     "output_type": "display_data"
    }
   ],
   "source": [
    "columns=normalized_df.columns\n",
    "for column in columns:\n",
    "    normalized_df.plot.scatter(x = column, y = 'Netflix Stock', s = 20);\n",
    "    plt.xlabel(column)\n",
    "    plt.ylabel('Netflix Stock')"
   ]
  },
  {
   "cell_type": "code",
   "execution_count": 63,
   "id": "2801be1f",
   "metadata": {},
   "outputs": [
    {
     "data": {
      "image/png": "[encoded data removed]",
      "text/plain": [
       "<Figure size 1080x360 with 1 Axes>"
      ]
     },
     "metadata": {
      "needs_background": "light"
     },
     "output_type": "display_data"
    }
   ],
   "source": [
    "plt.plot(normalized_df['Date'], normalized_df['Netflix Stock'], normalized_df['Date'],normalized_df['Disney Stock'])\n",
    "plt.gcf().set_size_inches((15, 5))\n",
    "plt.legend(['Netflix Stock', 'Disney Stock'], loc =\"lower right\")\n",
    "plt.show()"
   ]
  },
  {
   "cell_type": "code",
   "execution_count": 29,
   "id": "8d4cf2fb",
   "metadata": {},
   "outputs": [
    {
     "data": {
      "image/png": "[encoded data removed]",
      "text/plain": [
       "<Figure size 1080x360 with 1 Axes>"
      ]
     },
     "metadata": {
      "needs_background": "light"
     },
     "output_type": "display_data"
    }
   ],
   "source": [
    "plt.plot(normalized_df['Date'], normalized_df['Netflix Stock'], normalized_df['Date'], normalized_df['Netflix Originals'], normalized_df['Date'], normalized_df['Hulu Originals'])\n",
    "plt.legend(['Netflix Stock', 'Netflix Originals', 'Hulu Originals'], loc =\"lower right\")\n",
    "plt.gcf().set_size_inches((15, 5))\n",
    "plt.show()"
   ]
  },
  {
   "cell_type": "code",
   "execution_count": 31,
   "id": "26246cf1",
   "metadata": {},
   "outputs": [
    {
     "data": {
      "image/png": "[encoded data removed]",
      "text/plain": [
       "<Figure size 1080x360 with 1 Axes>"
      ]
     },
     "metadata": {
      "needs_background": "light"
     },
     "output_type": "display_data"
    }
   ],
   "source": [
    "plt.plot(normalized_df['Disney Launch'], normalized_df['Netflix Stock'])\n",
    "plt.legend(['Disney Launch', 'Netflix Stock'], loc =\"lower right\")\n",
    "plt.gcf().set_size_inches((15, 5))\n",
    "plt.xlabel('Disney Launch')\n",
    "plt.ylabel('Netflix Stock')\n",
    "plt.show()"
   ]
  },
  {
   "cell_type": "code",
   "execution_count": 32,
   "id": "30c32d0f",
   "metadata": {},
   "outputs": [],
   "source": [
    "def splitData(df, features, labels, specifed_random_state=42):\n",
    "    \"\"\"Split a subset of the dataset, given by the features, into train and test sets.\"\"\"\n",
    "    df_predictors = df[features].values\n",
    "    df_labels = df[labels].values\n",
    "\n",
    "    # Split into training and test sets\n",
    "    XTrain, XTest, yTrain, yTest = train_test_split(df_predictors, df_labels, random_state=specifed_random_state)\n",
    "    return XTrain, XTest, yTrain, yTest"
   ]
  },
  {
   "cell_type": "code",
   "execution_count": 33,
   "id": "2044186c",
   "metadata": {},
   "outputs": [],
   "source": [
    "def renderTree(my_tree, features):\n",
    "    # hacky solution of writing to files and reading again\n",
    "    # necessary due to library bugs\n",
    "    filename = \"temp.dot\"\n",
    "    with open(filename, 'w') as f:\n",
    "        f = tree.export_graphviz(my_tree, \n",
    "                                 out_file=f, \n",
    "                                 feature_names=features, \n",
    "                                 class_names=[\"Perished\", \"Survived\"],  \n",
    "                                 filled=True, \n",
    "                                 rounded=True,\n",
    "                                 special_characters=True)\n",
    "  \n",
    "    dot_data = \"\"\n",
    "    with open(filename, 'r') as f:\n",
    "        dot_data = f.read()\n",
    "\n",
    "    graph = pydotplus.graph_from_dot_data(dot_data)\n",
    "    image_name = \"temp.png\"\n",
    "    graph.write_png(image_name)  \n",
    "    display(Image(filename=image_name))"
   ]
  },
  {
   "cell_type": "code",
   "execution_count": 34,
   "id": "3f18ba7f",
   "metadata": {},
   "outputs": [
    {
     "ename": "NameError",
     "evalue": "name 'tree' is not defined",
     "output_type": "error",
     "traceback": [
      "\u001b[1;31m---------------------------------------------------------------------------\u001b[0m",
      "\u001b[1;31mNameError\u001b[0m                                 Traceback (most recent call last)",
      "\u001b[1;32m~\\AppData\\Local\\Temp/ipykernel_32432/1718616832.py\u001b[0m in \u001b[0;36m<module>\u001b[1;34m\u001b[0m\n\u001b[1;32m----> 1\u001b[1;33m \u001b[0mdecisionTree\u001b[0m \u001b[1;33m=\u001b[0m \u001b[0mtree\u001b[0m\u001b[1;33m.\u001b[0m\u001b[0mDecisionTreeRegressor\u001b[0m\u001b[1;33m(\u001b[0m\u001b[0mmax_depth\u001b[0m\u001b[1;33m=\u001b[0m\u001b[1;36m10\u001b[0m\u001b[1;33m,\u001b[0m \u001b[0mmin_samples_split\u001b[0m\u001b[1;33m=\u001b[0m\u001b[1;36m25\u001b[0m\u001b[1;33m)\u001b[0m\u001b[1;33m\u001b[0m\u001b[1;33m\u001b[0m\u001b[0m\n\u001b[0m\u001b[0;32m      2\u001b[0m \u001b[1;33m\u001b[0m\u001b[0m\n\u001b[0;32m      3\u001b[0m features = ['Disney Stock', 'Netflix Originals', 'Netflix Premium', 'Netflix Standard', \n\u001b[0;32m      4\u001b[0m             'Netflix Basic', 'Hulu Originals', 'Covid-19 Cases', 'Disney Launch']\n\u001b[0;32m      5\u001b[0m \u001b[1;33m\u001b[0m\u001b[0m\n",
      "\u001b[1;31mNameError\u001b[0m: name 'tree' is not defined"
     ]
    }
   ],
   "source": [
    "\n",
    "decisionTree = tree.DecisionTreeRegressor(max_depth=10, min_samples_split=25)\n",
    "\n",
    "features = ['Disney Stock', 'Netflix Originals', 'Netflix Premium', 'Netflix Standard', \n",
    "            'Netflix Basic', 'Hulu Originals', 'Covid-19 Cases', 'Disney Launch']\n",
    "\n",
    "XTrain, XTest, yTrain, yTest = splitData(unifiedDF_updated, features, [\"Disney Stock\"])\n",
    "# fit the tree with the traing data\n",
    "decisionTree = decisionTree.fit(XTrain, yTrain)\n",
    "\n",
    "# predict with the training data\n",
    "y_pred_train = decisionTree.predict(XTrain)\n",
    "# measure accuracy\n",
    "print('Accuracy on training data = ', \n",
    "      metrics.accuracy_score(y_true = yTrain, y_pred = y_pred_train))\n",
    "\n",
    "# predict with the test data\n",
    "y_pred = decisionTree.predict(XTest)\n",
    "# measure accuracy\n",
    "print('Accuracy on test data = ', \n",
    "      metrics.accuracy_score(y_true = yTest, y_pred = y_pred))\n",
    "\n",
    "renderTree(decisionTree, features)"
   ]
  },
  {
   "cell_type": "code",
   "execution_count": null,
   "id": "43b40797",
   "metadata": {},
   "outputs": [],
   "source": []
  },
  {
   "cell_type": "code",
   "execution_count": null,
   "id": "919a33b2",
   "metadata": {},
   "outputs": [],
   "source": []
  },
  {
   "cell_type": "code",
   "execution_count": null,
   "id": "6bcd5787",
   "metadata": {},
   "outputs": [],
   "source": []
  },
  {
   "cell_type": "code",
   "execution_count": 35,
   "id": "4c5ece30",
   "metadata": {},
   "outputs": [
    {
     "data": {
      "text/plain": [
       "DecisionTreeRegressor(max_depth=2, random_state=1)"
      ]
     },
     "execution_count": 35,
     "metadata": {},
     "output_type": "execute_result"
    }
   ],
   "source": [
    "#Import the class\n",
    "from sklearn.tree import DecisionTreeRegressor \n",
    "X = unifiedDF_updated[['Disney Stock']] #Two-dimensional (pd DataFrame)\n",
    "y = unifiedDF_updated['Netflix Stock'] #One-dimensional (pd Series) \n",
    "#Create an object (model)\n",
    "dtr1 = DecisionTreeRegressor(max_depth=2, random_state=1) #Fit (train) the model\n",
    "dtr1.fit(X, y)"
   ]
  },
  {
   "cell_type": "code",
   "execution_count": 36,
   "id": "0950e712",
   "metadata": {},
   "outputs": [
    {
     "data": {
      "image/png": "[encoded data removed]",
      "text/plain": [
       "<Figure size 432x288 with 1 Axes>"
      ]
     },
     "metadata": {
      "needs_background": "light"
     },
     "output_type": "display_data"
    }
   ],
   "source": [
    "sns.scatterplot(x=unifiedDF_updated['Disney Stock'], y=unifiedDF_updated['Netflix Stock'], label='data') \n",
    "plt.plot(unifiedDF_updated['Disney Stock'].sort_values(), dtr1.predict(unifiedDF_updated['Disney Stock'].sort_values().to_frame()), color='red', label='model', linewidth=2) \n",
    "plt.legend() \n",
    "plt.savefig('model.png')"
   ]
  },
  {
   "cell_type": "code",
   "execution_count": 37,
   "id": "8cd19051",
   "metadata": {},
   "outputs": [
    {
     "ename": "AttributeError",
     "evalue": "module 'graphviz.backend' has no attribute 'ENCODING'",
     "output_type": "error",
     "traceback": [
      "\u001b[1;31m---------------------------------------------------------------------------\u001b[0m",
      "\u001b[1;31mAttributeError\u001b[0m                            Traceback (most recent call last)",
      "\u001b[1;32m~\\AppData\\Local\\Temp/ipykernel_32432/1992513497.py\u001b[0m in \u001b[0;36m<module>\u001b[1;34m\u001b[0m\n\u001b[0;32m      1\u001b[0m \u001b[1;32mfrom\u001b[0m \u001b[0msklearn\u001b[0m\u001b[1;33m.\u001b[0m\u001b[0mtree\u001b[0m \u001b[1;32mimport\u001b[0m \u001b[0mexport_graphviz\u001b[0m\u001b[1;33m\u001b[0m\u001b[1;33m\u001b[0m\u001b[0m\n\u001b[1;32m----> 2\u001b[1;33m \u001b[1;32mimport\u001b[0m \u001b[0mgraphviz\u001b[0m\u001b[1;33m\u001b[0m\u001b[1;33m\u001b[0m\u001b[0m\n\u001b[0m\u001b[0;32m      3\u001b[0m \u001b[1;33m\u001b[0m\u001b[0m\n\u001b[0;32m      4\u001b[0m dot_data = export_graphviz(dtr1, feature_names=['Disney Stock'],  \n\u001b[0;32m      5\u001b[0m                            filled=True, rounded=True)  \n",
      "\u001b[1;32m~\\anaconda3\\lib\\site-packages\\graphviz\\__init__.py\u001b[0m in \u001b[0;36m<module>\u001b[1;34m\u001b[0m\n\u001b[0;32m     25\u001b[0m \"\"\"\n\u001b[0;32m     26\u001b[0m \u001b[1;33m\u001b[0m\u001b[0m\n\u001b[1;32m---> 27\u001b[1;33m \u001b[1;32mfrom\u001b[0m \u001b[1;33m.\u001b[0m\u001b[0mdot\u001b[0m \u001b[1;32mimport\u001b[0m \u001b[0mGraph\u001b[0m\u001b[1;33m,\u001b[0m \u001b[0mDigraph\u001b[0m\u001b[1;33m\u001b[0m\u001b[1;33m\u001b[0m\u001b[0m\n\u001b[0m\u001b[0;32m     28\u001b[0m \u001b[1;32mfrom\u001b[0m \u001b[1;33m.\u001b[0m\u001b[0mfiles\u001b[0m \u001b[1;32mimport\u001b[0m \u001b[0mSource\u001b[0m\u001b[1;33m\u001b[0m\u001b[1;33m\u001b[0m\u001b[0m\n\u001b[0;32m     29\u001b[0m \u001b[1;32mfrom\u001b[0m \u001b[1;33m.\u001b[0m\u001b[0mlang\u001b[0m \u001b[1;32mimport\u001b[0m \u001b[0mescape\u001b[0m\u001b[1;33m,\u001b[0m \u001b[0mnohtml\u001b[0m\u001b[1;33m\u001b[0m\u001b[1;33m\u001b[0m\u001b[0m\n",
      "\u001b[1;32m~\\anaconda3\\lib\\site-packages\\graphviz\\dot.py\u001b[0m in \u001b[0;36m<module>\u001b[1;34m\u001b[0m\n\u001b[0;32m     30\u001b[0m \u001b[1;33m\u001b[0m\u001b[0m\n\u001b[0;32m     31\u001b[0m \u001b[1;32mfrom\u001b[0m \u001b[1;33m.\u001b[0m \u001b[1;32mimport\u001b[0m \u001b[0mbackend\u001b[0m\u001b[1;33m\u001b[0m\u001b[1;33m\u001b[0m\u001b[0m\n\u001b[1;32m---> 32\u001b[1;33m \u001b[1;32mfrom\u001b[0m \u001b[1;33m.\u001b[0m \u001b[1;32mimport\u001b[0m \u001b[0mfiles\u001b[0m\u001b[1;33m\u001b[0m\u001b[1;33m\u001b[0m\u001b[0m\n\u001b[0m\u001b[0;32m     33\u001b[0m \u001b[1;32mfrom\u001b[0m \u001b[1;33m.\u001b[0m \u001b[1;32mimport\u001b[0m \u001b[0mlang\u001b[0m\u001b[1;33m\u001b[0m\u001b[1;33m\u001b[0m\u001b[0m\n\u001b[0;32m     34\u001b[0m \u001b[1;33m\u001b[0m\u001b[0m\n",
      "\u001b[1;32m~\\anaconda3\\lib\\site-packages\\graphviz\\files.py\u001b[0m in \u001b[0;36m<module>\u001b[1;34m\u001b[0m\n\u001b[0;32m     20\u001b[0m \u001b[1;33m\u001b[0m\u001b[0m\n\u001b[0;32m     21\u001b[0m \u001b[1;33m\u001b[0m\u001b[0m\n\u001b[1;32m---> 22\u001b[1;33m \u001b[1;32mclass\u001b[0m \u001b[0mBase\u001b[0m\u001b[1;33m(\u001b[0m\u001b[0mobject\u001b[0m\u001b[1;33m)\u001b[0m\u001b[1;33m:\u001b[0m\u001b[1;33m\u001b[0m\u001b[1;33m\u001b[0m\u001b[0m\n\u001b[0m\u001b[0;32m     23\u001b[0m \u001b[1;33m\u001b[0m\u001b[0m\n\u001b[0;32m     24\u001b[0m     \u001b[0m_engine\u001b[0m \u001b[1;33m=\u001b[0m \u001b[1;34m'dot'\u001b[0m\u001b[1;33m\u001b[0m\u001b[1;33m\u001b[0m\u001b[0m\n",
      "\u001b[1;32m~\\anaconda3\\lib\\site-packages\\graphviz\\files.py\u001b[0m in \u001b[0;36mBase\u001b[1;34m()\u001b[0m\n\u001b[0;32m     26\u001b[0m     \u001b[0m_format\u001b[0m \u001b[1;33m=\u001b[0m \u001b[1;34m'pdf'\u001b[0m\u001b[1;33m\u001b[0m\u001b[1;33m\u001b[0m\u001b[0m\n\u001b[0;32m     27\u001b[0m \u001b[1;33m\u001b[0m\u001b[0m\n\u001b[1;32m---> 28\u001b[1;33m     \u001b[0m_encoding\u001b[0m \u001b[1;33m=\u001b[0m \u001b[0mbackend\u001b[0m\u001b[1;33m.\u001b[0m\u001b[0mENCODING\u001b[0m\u001b[1;33m\u001b[0m\u001b[1;33m\u001b[0m\u001b[0m\n\u001b[0m\u001b[0;32m     29\u001b[0m \u001b[1;33m\u001b[0m\u001b[0m\n\u001b[0;32m     30\u001b[0m     \u001b[1;33m@\u001b[0m\u001b[0mproperty\u001b[0m\u001b[1;33m\u001b[0m\u001b[1;33m\u001b[0m\u001b[0m\n",
      "\u001b[1;31mAttributeError\u001b[0m: module 'graphviz.backend' has no attribute 'ENCODING'"
     ]
    }
   ],
   "source": [
    "from sklearn.tree import export_graphviz\n",
    "import graphviz\n",
    "\n",
    "dot_data = export_graphviz(dtr1, feature_names=['Disney Stock'],  \n",
    "                           filled=True, rounded=True)  \n",
    "\n",
    "graph = graphviz.Source(dot_data)\n",
    "graph.render(\"tree\")"
   ]
  }
 ],
 "metadata": {
  "celltoolbar": "Raw Cell Format",
  "kernelspec": {
   "display_name": "Python 3 (ipykernel)",
   "language": "python",
   "name": "python3"
  },
  "language_info": {
   "codemirror_mode": {
    "name": "ipython",
    "version": 3
   },
   "file_extension": ".py",
   "mimetype": "text/x-python",
   "name": "python",
   "nbconvert_exporter": "python",
   "pygments_lexer": "ipython3",
   "version": "3.9.7"
  }
 },
 "nbformat": 4,
 "nbformat_minor": 5
}
